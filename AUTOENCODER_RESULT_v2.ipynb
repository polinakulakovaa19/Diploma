{
 "cells": [
  {
   "cell_type": "markdown",
   "metadata": {
    "id": "1xhoV6v082-P"
   },
   "source": [
    "## \"Обнаружение аномалий в финансовых транзакциях с использованием сети автокодировщика\"\n"
   ]
  },
  {
   "cell_type": "markdown",
   "metadata": {
    "id": "d2m5D1SL82-R"
   },
   "source": [
    "## 1. Введение"
   ]
  },
  {
   "cell_type": "markdown",
   "metadata": {
    "id": "LT6pK6zs82-U"
   },
   "source": [
    "### 1.1 Классификация финансовых аномалий"
   ]
  },
  {
   "cell_type": "markdown",
   "metadata": {
    "id": "VCO2OtUiBdId"
   },
   "source": [
    "При детальном изучении реальных журнальных записей, обычно записываемых в крупномасштабных системах AIS или ERP, мы различаем два класса аномальных записей в журнале, а именно «глобальные» и «локальные» аномалии, как показано на рисунке 1 ниже:"
   ]
  },
  {
   "cell_type": "markdown",
   "metadata": {
    "id": "yHDVccad82-U"
   },
   "source": [
    "<img align=\"middle\" style=\"max-width: 450px; height: auto\" src=\"https://github.com/GitiHubi/deepAI/blob/master/images/anomalies.png?raw=1\">"
   ]
  },
  {
   "cell_type": "markdown",
   "metadata": {
    "id": "A9HYL9FaCTk9"
   },
   "source": [
    "Рисунок 1: Пример глобальных и локальных аномалий в пространстве двух признаков транзакции «Сумма проводки» (Признак 1 (Ось oY)) и «Позиции проводки» (Признак 2  (Ось oX))."
   ]
  },
  {
   "cell_type": "markdown",
   "metadata": {
    "id": "gugsRxwaCjs2"
   },
   "source": [
    "**Глобальные аномалии** — это финансовые транзакции, которые демонстрируют **необычные или редкие значения отдельных атрибутов**. Эти аномалии обычно связаны с сильно искаженными атрибутами, т.е. редко публикующие сообщения пользователи, редко используемые бухгалтерские книги или необычное время публикации (под публикацией можно понимать запись в БД)."
   ]
  },
  {
   "cell_type": "markdown",
   "metadata": {
    "id": "GjzXy2QOC3ED"
   },
   "source": [
    "**Локальные аномалии** — это финансовые операции, которые демонстрируют **необычное или редкое сочетание значений атрибутов**, в то время как отдельные значения атрибутов встречаются довольно часто, например, нестандартные бухгалтерские записи.\n",
    "\n",
    "Этот тип аномалии значительно труднее обнаружить, поскольку мошенники намерены замаскировать свои действия, пытаясь имитировать обычное поведение. В результате такие аномалии обычно представляют высокий риск мошенничества, поскольку они могут соответствовать, например, неправомерно используемым учетным записям пользователей, нерегулярным комбинациям счетов главной книги и ключей публикации, которые не соответствуют обычному шаблону деятельности."
   ]
  },
  {
   "cell_type": "markdown",
   "metadata": {
    "id": "vnvf_fJ482-X"
   },
   "source": [
    "## 2. Настройка среды разработки и её проверка"
   ]
  },
  {
   "cell_type": "markdown",
   "metadata": {
    "id": "sJG94NQA82-X"
   },
   "source": [
    "### 2.1 Импорт библиотек Python"
   ]
  },
  {
   "cell_type": "markdown",
   "metadata": {
    "id": "POzK8ldlHozC"
   },
   "source": [
    "Импортируем библиотеки, необходимые для работы:"
   ]
  },
  {
   "cell_type": "code",
   "execution_count": 2,
   "metadata": {
    "id": "F4CwNQ2c82-Y"
   },
   "outputs": [],
   "source": [
    "# importing utilities\n",
    "import os\n",
    "import sys\n",
    "from datetime import datetime\n",
    "import io\n",
    "import urllib\n",
    "\n",
    "# importing data science libraries\n",
    "import pandas as pd\n",
    "import random as rd\n",
    "import numpy as np\n",
    "\n",
    "# importing pytorch libraries: нужны для построения нейронной сети\n",
    "import torch\n",
    "from torch import nn\n",
    "from torch import autograd\n",
    "from torch.utils.data import DataLoader\n",
    "\n",
    "# import visualization libraries\n",
    "import matplotlib.pyplot as plt\n",
    "from mpl_toolkits.mplot3d import Axes3D\n",
    "import seaborn as sns\n",
    "from IPython.display import Image, display\n",
    "sns.set_style('darkgrid')\n",
    "\n",
    "# ignore potential warnings\n",
    "import warnings\n",
    "warnings.filterwarnings(\"ignore\")"
   ]
  },
  {
   "cell_type": "code",
   "execution_count": 3,
   "metadata": {
    "id": "jsnT5_be82-Y"
   },
   "outputs": [],
   "source": [
    "%matplotlib inline"
   ]
  },
  {
   "cell_type": "markdown",
   "metadata": {
    "id": "OxejTeAH82-Y"
   },
   "source": [
    "### 2.2 CUDNN и верификация GPU "
   ]
  },
  {
   "cell_type": "markdown",
   "metadata": {
    "id": "p68JPTwdILE5"
   },
   "source": [
    "Далее проверим, доступен ли CDNN на сервере. Для этого отобразим информацию о доступной версии CUDNN:"
   ]
  },
  {
   "cell_type": "code",
   "execution_count": 4,
   "metadata": {
    "colab": {
     "base_uri": "https://localhost:8080/"
    },
    "id": "I7poH20e82-Y",
    "outputId": "d8ca6cb0-9c54-4ce4-eb8c-f57a7e59d271"
   },
   "outputs": [
    {
     "name": "stdout",
     "output_type": "stream",
     "text": [
      "[LOG 20220508-16:10:43] The CUDNN backend version: 8200\n"
     ]
    }
   ],
   "source": [
    "# print CUDNN backend version\n",
    "now = datetime.utcnow().strftime(\"%Y%m%d-%H:%M:%S\")\n",
    "print('[LOG {}] The CUDNN backend version: {}'.format(now, torch.backends.cudnn.version()))"
   ]
  },
  {
   "cell_type": "markdown",
   "metadata": {
    "id": "wtgNM7XtIRDy"
   },
   "source": [
    "Кроме того, отобразим информацию о потенциальных графических процессорах, работающих на сервере:"
   ]
  },
  {
   "cell_type": "code",
   "execution_count": 5,
   "metadata": {
    "colab": {
     "base_uri": "https://localhost:8080/"
    },
    "id": "7ZsL__8m82-Z",
    "outputId": "ff20ab3c-9309-4ee5-da33-45c871ffb26d"
   },
   "outputs": [
    {
     "name": "stdout",
     "output_type": "stream",
     "text": [
      "Sun May  8 16:11:00 2022       \n",
      "+-----------------------------------------------------------------------------+\n",
      "| NVIDIA-SMI 460.32.03    Driver Version: 460.32.03    CUDA Version: 11.2     |\n",
      "|-------------------------------+----------------------+----------------------+\n",
      "| GPU  Name        Persistence-M| Bus-Id        Disp.A | Volatile Uncorr. ECC |\n",
      "| Fan  Temp  Perf  Pwr:Usage/Cap|         Memory-Usage | GPU-Util  Compute M. |\n",
      "|                               |                      |               MIG M. |\n",
      "|===============================+======================+======================|\n",
      "|   0  Tesla K80           Off  | 00000000:00:04.0 Off |                    0 |\n",
      "| N/A   68C    P8    34W / 149W |      0MiB / 11441MiB |      0%      Default |\n",
      "|                               |                      |                  N/A |\n",
      "+-------------------------------+----------------------+----------------------+\n",
      "                                                                               \n",
      "+-----------------------------------------------------------------------------+\n",
      "| Processes:                                                                  |\n",
      "|  GPU   GI   CI        PID   Type   Process name                  GPU Memory |\n",
      "|        ID   ID                                                   Usage      |\n",
      "|=============================================================================|\n",
      "|  No running processes found                                                 |\n",
      "+-----------------------------------------------------------------------------+\n"
     ]
    }
   ],
   "source": [
    "!nvidia-smi # команда терминала, которая показывает доступные видеокарты и их загрузку"
   ]
  },
  {
   "cell_type": "code",
   "execution_count": 6,
   "metadata": {
    "id": "Eob-KiztIfG4"
   },
   "outputs": [],
   "source": [
    "# доступна одна видеокарта Tesla K80"
   ]
  },
  {
   "cell_type": "markdown",
   "metadata": {
    "id": "Xt0_B5rp82-Z"
   },
   "source": [
    "### 2.3 Python и PyTorch верификация"
   ]
  },
  {
   "cell_type": "markdown",
   "metadata": {
    "id": "jqZRHZzPJM-r"
   },
   "source": [
    "Отобразим информацию о версии Python и PyTorch, работающей на сервере:"
   ]
  },
  {
   "cell_type": "code",
   "execution_count": 7,
   "metadata": {
    "colab": {
     "base_uri": "https://localhost:8080/"
    },
    "id": "SwLw2cLF82-Z",
    "outputId": "005ee360-dcb4-4cfe-e541-5e37641fb361"
   },
   "outputs": [
    {
     "name": "stdout",
     "output_type": "stream",
     "text": [
      "[LOG 20220508-16:11:18] The Python version: 3.7.13 (default, Apr 24 2022, 01:04:09) \n",
      "[GCC 7.5.0]\n"
     ]
    }
   ],
   "source": [
    "# print current Python version\n",
    "now = datetime.utcnow().strftime(\"%Y%m%d-%H:%M:%S\")\n",
    "print('[LOG {}] The Python version: {}'.format(now, sys.version))"
   ]
  },
  {
   "cell_type": "code",
   "execution_count": 8,
   "metadata": {
    "colab": {
     "base_uri": "https://localhost:8080/"
    },
    "id": "2I8nIji082-a",
    "outputId": "7d1bf194-1e18-474e-975b-a8aa275056b6"
   },
   "outputs": [
    {
     "name": "stdout",
     "output_type": "stream",
     "text": [
      "[LOG 20220508-16:11:20] The PyTorch version: 1.11.0+cu113\n"
     ]
    }
   ],
   "source": [
    "# print current PyTorch version\n",
    "now = datetime.utcnow().strftime(\"%Y%m%d-%H:%M:%S\")\n",
    "print('[LOG {}] The PyTorch version: {}'.format(now, torch.__version__))"
   ]
  },
  {
   "cell_type": "markdown",
   "metadata": {
    "id": "jC63QOTL82-a"
   },
   "source": [
    "### 2.4 Инициализация случайного начального числа"
   ]
  },
  {
   "cell_type": "markdown",
   "metadata": {
    "id": "gFQm7FzdJd-D"
   },
   "source": [
    "Установим детерминированные вычисления и результаты (одинаковые параметры при запуске):"
   ]
  },
  {
   "cell_type": "code",
   "execution_count": 9,
   "metadata": {
    "colab": {
     "base_uri": "https://localhost:8080/"
    },
    "id": "ABQKvtM982-a",
    "outputId": "6a6f2842-5dd1-44af-b8fe-8f734c6b0008"
   },
   "outputs": [
    {
     "data": {
      "text/plain": [
       "<torch._C.Generator at 0x7fc35761dd30>"
      ]
     },
     "execution_count": 9,
     "metadata": {},
     "output_type": "execute_result"
    }
   ],
   "source": [
    "# init deterministic seed\n",
    "seed_value = 1234 #4444 #3333 #2222 #1111 #1234\n",
    "rd.seed(seed_value) # set random seed\n",
    "np.random.seed(seed_value) # set numpy seed\n",
    "torch.manual_seed(seed_value) # set pytorch seed CPU"
   ]
  },
  {
   "cell_type": "markdown",
   "metadata": {
    "id": "gP-qIcLY82-a"
   },
   "source": [
    "## 3. Набор данных для обнаружения финансового мошенничества"
   ]
  },
  {
   "cell_type": "markdown",
   "metadata": {},
   "source": [
    "### 3.1 Исходные данные и анализ атрибутов"
   ]
  },
  {
   "cell_type": "markdown",
   "metadata": {
    "id": "qXKJisIruvPa"
   },
   "source": [
    "В этом разделе проведем описательный анализ набора финансовых данных. Кроме того, применим некоторые шаги предварительной обработки для обучения глубокой нейронной сети. Загрузим набор данных и исследуем его структуру и атрибуты:"
   ]
  },
  {
   "cell_type": "code",
   "execution_count": null,
   "metadata": {},
   "outputs": [],
   "source": [
    "# load the dataset \n",
    "url = 'https://raw.githubusercontent.com/GitiHubi/deepAI/master/data/fraud_dataset_v2.csv'\n",
    "ori_dataset = pd.read_csv(url)"
   ]
  },
  {
   "cell_type": "code",
   "execution_count": 11,
   "metadata": {
    "colab": {
     "base_uri": "https://localhost:8080/"
    },
    "id": "j4sz83Sk82-b",
    "outputId": "207a3bbf-7c3d-4172-999a-089fab721c91"
   },
   "outputs": [
    {
     "name": "stdout",
     "output_type": "stream",
     "text": [
      "[LOG 20220508-16:12:01] Transactional dataset of 533009 rows and 10 columns loaded\n"
     ]
    }
   ],
   "source": [
    "# inspect the datasets dimensionalities\n",
    "now = datetime.utcnow().strftime(\"%Y%m%d-%H:%M:%S\")\n",
    "print('[LOG {}] Transactional dataset of {} rows and {} columns loaded'.format(now, ori_dataset.shape[0], ori_dataset.shape[1]))"
   ]
  },
  {
   "cell_type": "code",
   "execution_count": 12,
   "metadata": {
    "colab": {
     "base_uri": "https://localhost:8080/",
     "height": 424
    },
    "id": "n_36Bchju_53",
    "outputId": "46f103b6-5942-49cd-c372-a59e2333ca16",
    "scrolled": true
   },
   "outputs": [
    {
     "data": {
      "text/html": [
       "\n",
       "  <div id=\"df-8a02fd18-658a-48c5-a960-b018c8c8e907\">\n",
       "    <div class=\"colab-df-container\">\n",
       "      <div>\n",
       "<style scoped>\n",
       "    .dataframe tbody tr th:only-of-type {\n",
       "        vertical-align: middle;\n",
       "    }\n",
       "\n",
       "    .dataframe tbody tr th {\n",
       "        vertical-align: top;\n",
       "    }\n",
       "\n",
       "    .dataframe thead th {\n",
       "        text-align: right;\n",
       "    }\n",
       "</style>\n",
       "<table border=\"1\" class=\"dataframe\">\n",
       "  <thead>\n",
       "    <tr style=\"text-align: right;\">\n",
       "      <th></th>\n",
       "      <th>BELNR</th>\n",
       "      <th>WAERS</th>\n",
       "      <th>BUKRS</th>\n",
       "      <th>KTOSL</th>\n",
       "      <th>PRCTR</th>\n",
       "      <th>BSCHL</th>\n",
       "      <th>HKONT</th>\n",
       "      <th>DMBTR</th>\n",
       "      <th>WRBTR</th>\n",
       "      <th>label</th>\n",
       "    </tr>\n",
       "  </thead>\n",
       "  <tbody>\n",
       "    <tr>\n",
       "      <th>0</th>\n",
       "      <td>288203</td>\n",
       "      <td>C3</td>\n",
       "      <td>C31</td>\n",
       "      <td>C9</td>\n",
       "      <td>C92</td>\n",
       "      <td>A3</td>\n",
       "      <td>B1</td>\n",
       "      <td>280979.60</td>\n",
       "      <td>0.00</td>\n",
       "      <td>regular</td>\n",
       "    </tr>\n",
       "    <tr>\n",
       "      <th>1</th>\n",
       "      <td>324441</td>\n",
       "      <td>C1</td>\n",
       "      <td>C18</td>\n",
       "      <td>C7</td>\n",
       "      <td>C76</td>\n",
       "      <td>A1</td>\n",
       "      <td>B2</td>\n",
       "      <td>129856.53</td>\n",
       "      <td>243343.00</td>\n",
       "      <td>regular</td>\n",
       "    </tr>\n",
       "    <tr>\n",
       "      <th>2</th>\n",
       "      <td>133537</td>\n",
       "      <td>C1</td>\n",
       "      <td>C19</td>\n",
       "      <td>C2</td>\n",
       "      <td>C20</td>\n",
       "      <td>A1</td>\n",
       "      <td>B3</td>\n",
       "      <td>957463.97</td>\n",
       "      <td>3183838.41</td>\n",
       "      <td>regular</td>\n",
       "    </tr>\n",
       "    <tr>\n",
       "      <th>3</th>\n",
       "      <td>331521</td>\n",
       "      <td>C4</td>\n",
       "      <td>C48</td>\n",
       "      <td>C9</td>\n",
       "      <td>C95</td>\n",
       "      <td>A2</td>\n",
       "      <td>B1</td>\n",
       "      <td>2681709.51</td>\n",
       "      <td>28778.00</td>\n",
       "      <td>regular</td>\n",
       "    </tr>\n",
       "    <tr>\n",
       "      <th>4</th>\n",
       "      <td>375333</td>\n",
       "      <td>C5</td>\n",
       "      <td>C58</td>\n",
       "      <td>C1</td>\n",
       "      <td>C19</td>\n",
       "      <td>A3</td>\n",
       "      <td>B1</td>\n",
       "      <td>910514.49</td>\n",
       "      <td>346.00</td>\n",
       "      <td>regular</td>\n",
       "    </tr>\n",
       "    <tr>\n",
       "      <th>...</th>\n",
       "      <td>...</td>\n",
       "      <td>...</td>\n",
       "      <td>...</td>\n",
       "      <td>...</td>\n",
       "      <td>...</td>\n",
       "      <td>...</td>\n",
       "      <td>...</td>\n",
       "      <td>...</td>\n",
       "      <td>...</td>\n",
       "      <td>...</td>\n",
       "    </tr>\n",
       "    <tr>\n",
       "      <th>533004</th>\n",
       "      <td>446818</td>\n",
       "      <td>C1</td>\n",
       "      <td>C18</td>\n",
       "      <td>C3</td>\n",
       "      <td>C32</td>\n",
       "      <td>A1</td>\n",
       "      <td>B2</td>\n",
       "      <td>2501589.15</td>\n",
       "      <td>0.00</td>\n",
       "      <td>regular</td>\n",
       "    </tr>\n",
       "    <tr>\n",
       "      <th>533005</th>\n",
       "      <td>455564</td>\n",
       "      <td>C8</td>\n",
       "      <td>C80</td>\n",
       "      <td>C1</td>\n",
       "      <td>C11</td>\n",
       "      <td>A1</td>\n",
       "      <td>B1</td>\n",
       "      <td>390076.18</td>\n",
       "      <td>12065.45</td>\n",
       "      <td>regular</td>\n",
       "    </tr>\n",
       "    <tr>\n",
       "      <th>533006</th>\n",
       "      <td>156896</td>\n",
       "      <td>C1</td>\n",
       "      <td>C10</td>\n",
       "      <td>C1</td>\n",
       "      <td>C19</td>\n",
       "      <td>A1</td>\n",
       "      <td>B1</td>\n",
       "      <td>192147.38</td>\n",
       "      <td>326823.09</td>\n",
       "      <td>regular</td>\n",
       "    </tr>\n",
       "    <tr>\n",
       "      <th>533007</th>\n",
       "      <td>455245</td>\n",
       "      <td>C1</td>\n",
       "      <td>C14</td>\n",
       "      <td>C4</td>\n",
       "      <td>C40</td>\n",
       "      <td>A1</td>\n",
       "      <td>B3</td>\n",
       "      <td>870539.68</td>\n",
       "      <td>0.00</td>\n",
       "      <td>regular</td>\n",
       "    </tr>\n",
       "    <tr>\n",
       "      <th>533008</th>\n",
       "      <td>281395</td>\n",
       "      <td>C8</td>\n",
       "      <td>C80</td>\n",
       "      <td>C7</td>\n",
       "      <td>C78</td>\n",
       "      <td>A1</td>\n",
       "      <td>B2</td>\n",
       "      <td>532106.87</td>\n",
       "      <td>32467.08</td>\n",
       "      <td>regular</td>\n",
       "    </tr>\n",
       "  </tbody>\n",
       "</table>\n",
       "<p>533009 rows × 10 columns</p>\n",
       "</div>\n",
       "      <button class=\"colab-df-convert\" onclick=\"convertToInteractive('df-8a02fd18-658a-48c5-a960-b018c8c8e907')\"\n",
       "              title=\"Convert this dataframe to an interactive table.\"\n",
       "              style=\"display:none;\">\n",
       "        \n",
       "  <svg xmlns=\"http://www.w3.org/2000/svg\" height=\"24px\"viewBox=\"0 0 24 24\"\n",
       "       width=\"24px\">\n",
       "    <path d=\"M0 0h24v24H0V0z\" fill=\"none\"/>\n",
       "    <path d=\"M18.56 5.44l.94 2.06.94-2.06 2.06-.94-2.06-.94-.94-2.06-.94 2.06-2.06.94zm-11 1L8.5 8.5l.94-2.06 2.06-.94-2.06-.94L8.5 2.5l-.94 2.06-2.06.94zm10 10l.94 2.06.94-2.06 2.06-.94-2.06-.94-.94-2.06-.94 2.06-2.06.94z\"/><path d=\"M17.41 7.96l-1.37-1.37c-.4-.4-.92-.59-1.43-.59-.52 0-1.04.2-1.43.59L10.3 9.45l-7.72 7.72c-.78.78-.78 2.05 0 2.83L4 21.41c.39.39.9.59 1.41.59.51 0 1.02-.2 1.41-.59l7.78-7.78 2.81-2.81c.8-.78.8-2.07 0-2.86zM5.41 20L4 18.59l7.72-7.72 1.47 1.35L5.41 20z\"/>\n",
       "  </svg>\n",
       "      </button>\n",
       "      \n",
       "  <style>\n",
       "    .colab-df-container {\n",
       "      display:flex;\n",
       "      flex-wrap:wrap;\n",
       "      gap: 12px;\n",
       "    }\n",
       "\n",
       "    .colab-df-convert {\n",
       "      background-color: #E8F0FE;\n",
       "      border: none;\n",
       "      border-radius: 50%;\n",
       "      cursor: pointer;\n",
       "      display: none;\n",
       "      fill: #1967D2;\n",
       "      height: 32px;\n",
       "      padding: 0 0 0 0;\n",
       "      width: 32px;\n",
       "    }\n",
       "\n",
       "    .colab-df-convert:hover {\n",
       "      background-color: #E2EBFA;\n",
       "      box-shadow: 0px 1px 2px rgba(60, 64, 67, 0.3), 0px 1px 3px 1px rgba(60, 64, 67, 0.15);\n",
       "      fill: #174EA6;\n",
       "    }\n",
       "\n",
       "    [theme=dark] .colab-df-convert {\n",
       "      background-color: #3B4455;\n",
       "      fill: #D2E3FC;\n",
       "    }\n",
       "\n",
       "    [theme=dark] .colab-df-convert:hover {\n",
       "      background-color: #434B5C;\n",
       "      box-shadow: 0px 1px 3px 1px rgba(0, 0, 0, 0.15);\n",
       "      filter: drop-shadow(0px 1px 2px rgba(0, 0, 0, 0.3));\n",
       "      fill: #FFFFFF;\n",
       "    }\n",
       "  </style>\n",
       "\n",
       "      <script>\n",
       "        const buttonEl =\n",
       "          document.querySelector('#df-8a02fd18-658a-48c5-a960-b018c8c8e907 button.colab-df-convert');\n",
       "        buttonEl.style.display =\n",
       "          google.colab.kernel.accessAllowed ? 'block' : 'none';\n",
       "\n",
       "        async function convertToInteractive(key) {\n",
       "          const element = document.querySelector('#df-8a02fd18-658a-48c5-a960-b018c8c8e907');\n",
       "          const dataTable =\n",
       "            await google.colab.kernel.invokeFunction('convertToInteractive',\n",
       "                                                     [key], {});\n",
       "          if (!dataTable) return;\n",
       "\n",
       "          const docLinkHtml = 'Like what you see? Visit the ' +\n",
       "            '<a target=\"_blank\" href=https://colab.research.google.com/notebooks/data_table.ipynb>data table notebook</a>'\n",
       "            + ' to learn more about interactive tables.';\n",
       "          element.innerHTML = '';\n",
       "          dataTable['output_type'] = 'display_data';\n",
       "          await google.colab.output.renderOutput(dataTable, element);\n",
       "          const docLink = document.createElement('div');\n",
       "          docLink.innerHTML = docLinkHtml;\n",
       "          element.appendChild(docLink);\n",
       "        }\n",
       "      </script>\n",
       "    </div>\n",
       "  </div>\n",
       "  "
      ],
      "text/plain": [
       "         BELNR WAERS BUKRS KTOSL PRCTR BSCHL HKONT       DMBTR       WRBTR  \\\n",
       "0       288203    C3   C31    C9   C92    A3    B1   280979.60        0.00   \n",
       "1       324441    C1   C18    C7   C76    A1    B2   129856.53   243343.00   \n",
       "2       133537    C1   C19    C2   C20    A1    B3   957463.97  3183838.41   \n",
       "3       331521    C4   C48    C9   C95    A2    B1  2681709.51    28778.00   \n",
       "4       375333    C5   C58    C1   C19    A3    B1   910514.49      346.00   \n",
       "...        ...   ...   ...   ...   ...   ...   ...         ...         ...   \n",
       "533004  446818    C1   C18    C3   C32    A1    B2  2501589.15        0.00   \n",
       "533005  455564    C8   C80    C1   C11    A1    B1   390076.18    12065.45   \n",
       "533006  156896    C1   C10    C1   C19    A1    B1   192147.38   326823.09   \n",
       "533007  455245    C1   C14    C4   C40    A1    B3   870539.68        0.00   \n",
       "533008  281395    C8   C80    C7   C78    A1    B2   532106.87    32467.08   \n",
       "\n",
       "          label  \n",
       "0       regular  \n",
       "1       regular  \n",
       "2       regular  \n",
       "3       regular  \n",
       "4       regular  \n",
       "...         ...  \n",
       "533004  regular  \n",
       "533005  regular  \n",
       "533006  regular  \n",
       "533007  regular  \n",
       "533008  regular  \n",
       "\n",
       "[533009 rows x 10 columns]"
      ]
     },
     "execution_count": 12,
     "metadata": {},
     "output_type": "execute_result"
    }
   ],
   "source": [
    "ori_dataset"
   ]
  },
  {
   "cell_type": "markdown",
   "metadata": {
    "id": "dUsK_M09wCrj"
   },
   "source": [
    "Набор данных содержит подмножество из 7 категориальных и 2 числовых атрибутов, доступных в таблицах BKPF (содержащих заголовки  записей журнала) и BSEG (содержащих сегменты записей журнала). \n",
    "\n",
    "* BELNR: № документа,\n",
    "* BUKRS: Код компании (балансовая единица),\n",
    "* BSCHL: Ключ проводки,\n",
    "* HKONT: Пользователь, запостивший проводку,\n",
    "* PRCTR: Центр прибыли,\n",
    "* WAERS: Код валюты,\n",
    "* KTOSL: Ключ транзакции для указания налогового счета,\n",
    "* DMBTR: Сумма в локальной валюте,\n",
    "* WRBTR: Сумма в валюте документа.\n",
    "\n"
   ]
  },
  {
   "cell_type": "code",
   "execution_count": 13,
   "metadata": {
    "colab": {
     "base_uri": "https://localhost:8080/",
     "height": 363
    },
    "id": "3M0H693x82-b",
    "outputId": "a97367c2-a8b5-479e-ef10-5162978b8764"
   },
   "outputs": [
    {
     "data": {
      "text/html": [
       "\n",
       "  <div id=\"df-5c4c6d18-108b-4edd-a433-8d6da894be30\">\n",
       "    <div class=\"colab-df-container\">\n",
       "      <div>\n",
       "<style scoped>\n",
       "    .dataframe tbody tr th:only-of-type {\n",
       "        vertical-align: middle;\n",
       "    }\n",
       "\n",
       "    .dataframe tbody tr th {\n",
       "        vertical-align: top;\n",
       "    }\n",
       "\n",
       "    .dataframe thead th {\n",
       "        text-align: right;\n",
       "    }\n",
       "</style>\n",
       "<table border=\"1\" class=\"dataframe\">\n",
       "  <thead>\n",
       "    <tr style=\"text-align: right;\">\n",
       "      <th></th>\n",
       "      <th>BELNR</th>\n",
       "      <th>WAERS</th>\n",
       "      <th>BUKRS</th>\n",
       "      <th>KTOSL</th>\n",
       "      <th>PRCTR</th>\n",
       "      <th>BSCHL</th>\n",
       "      <th>HKONT</th>\n",
       "      <th>DMBTR</th>\n",
       "      <th>WRBTR</th>\n",
       "      <th>label</th>\n",
       "    </tr>\n",
       "  </thead>\n",
       "  <tbody>\n",
       "    <tr>\n",
       "      <th>0</th>\n",
       "      <td>288203</td>\n",
       "      <td>C3</td>\n",
       "      <td>C31</td>\n",
       "      <td>C9</td>\n",
       "      <td>C92</td>\n",
       "      <td>A3</td>\n",
       "      <td>B1</td>\n",
       "      <td>280979.60</td>\n",
       "      <td>0.00</td>\n",
       "      <td>regular</td>\n",
       "    </tr>\n",
       "    <tr>\n",
       "      <th>1</th>\n",
       "      <td>324441</td>\n",
       "      <td>C1</td>\n",
       "      <td>C18</td>\n",
       "      <td>C7</td>\n",
       "      <td>C76</td>\n",
       "      <td>A1</td>\n",
       "      <td>B2</td>\n",
       "      <td>129856.53</td>\n",
       "      <td>243343.00</td>\n",
       "      <td>regular</td>\n",
       "    </tr>\n",
       "    <tr>\n",
       "      <th>2</th>\n",
       "      <td>133537</td>\n",
       "      <td>C1</td>\n",
       "      <td>C19</td>\n",
       "      <td>C2</td>\n",
       "      <td>C20</td>\n",
       "      <td>A1</td>\n",
       "      <td>B3</td>\n",
       "      <td>957463.97</td>\n",
       "      <td>3183838.41</td>\n",
       "      <td>regular</td>\n",
       "    </tr>\n",
       "    <tr>\n",
       "      <th>3</th>\n",
       "      <td>331521</td>\n",
       "      <td>C4</td>\n",
       "      <td>C48</td>\n",
       "      <td>C9</td>\n",
       "      <td>C95</td>\n",
       "      <td>A2</td>\n",
       "      <td>B1</td>\n",
       "      <td>2681709.51</td>\n",
       "      <td>28778.00</td>\n",
       "      <td>regular</td>\n",
       "    </tr>\n",
       "    <tr>\n",
       "      <th>4</th>\n",
       "      <td>375333</td>\n",
       "      <td>C5</td>\n",
       "      <td>C58</td>\n",
       "      <td>C1</td>\n",
       "      <td>C19</td>\n",
       "      <td>A3</td>\n",
       "      <td>B1</td>\n",
       "      <td>910514.49</td>\n",
       "      <td>346.00</td>\n",
       "      <td>regular</td>\n",
       "    </tr>\n",
       "    <tr>\n",
       "      <th>5</th>\n",
       "      <td>327203</td>\n",
       "      <td>C1</td>\n",
       "      <td>C15</td>\n",
       "      <td>C6</td>\n",
       "      <td>C68</td>\n",
       "      <td>A1</td>\n",
       "      <td>B2</td>\n",
       "      <td>357627.56</td>\n",
       "      <td>704520.00</td>\n",
       "      <td>regular</td>\n",
       "    </tr>\n",
       "    <tr>\n",
       "      <th>6</th>\n",
       "      <td>292545</td>\n",
       "      <td>C4</td>\n",
       "      <td>C47</td>\n",
       "      <td>C2</td>\n",
       "      <td>C28</td>\n",
       "      <td>A2</td>\n",
       "      <td>B3</td>\n",
       "      <td>955576.84</td>\n",
       "      <td>128328.00</td>\n",
       "      <td>regular</td>\n",
       "    </tr>\n",
       "    <tr>\n",
       "      <th>7</th>\n",
       "      <td>335839</td>\n",
       "      <td>C1</td>\n",
       "      <td>C19</td>\n",
       "      <td>C1</td>\n",
       "      <td>C17</td>\n",
       "      <td>A1</td>\n",
       "      <td>B1</td>\n",
       "      <td>41769.26</td>\n",
       "      <td>0.00</td>\n",
       "      <td>regular</td>\n",
       "    </tr>\n",
       "    <tr>\n",
       "      <th>8</th>\n",
       "      <td>369064</td>\n",
       "      <td>C4</td>\n",
       "      <td>C40</td>\n",
       "      <td>C9</td>\n",
       "      <td>C97</td>\n",
       "      <td>A2</td>\n",
       "      <td>B1</td>\n",
       "      <td>44309.79</td>\n",
       "      <td>0.00</td>\n",
       "      <td>regular</td>\n",
       "    </tr>\n",
       "    <tr>\n",
       "      <th>9</th>\n",
       "      <td>138724</td>\n",
       "      <td>C6</td>\n",
       "      <td>C69</td>\n",
       "      <td>C1</td>\n",
       "      <td>C12</td>\n",
       "      <td>A2</td>\n",
       "      <td>B1</td>\n",
       "      <td>466720.45</td>\n",
       "      <td>43843.00</td>\n",
       "      <td>regular</td>\n",
       "    </tr>\n",
       "  </tbody>\n",
       "</table>\n",
       "</div>\n",
       "      <button class=\"colab-df-convert\" onclick=\"convertToInteractive('df-5c4c6d18-108b-4edd-a433-8d6da894be30')\"\n",
       "              title=\"Convert this dataframe to an interactive table.\"\n",
       "              style=\"display:none;\">\n",
       "        \n",
       "  <svg xmlns=\"http://www.w3.org/2000/svg\" height=\"24px\"viewBox=\"0 0 24 24\"\n",
       "       width=\"24px\">\n",
       "    <path d=\"M0 0h24v24H0V0z\" fill=\"none\"/>\n",
       "    <path d=\"M18.56 5.44l.94 2.06.94-2.06 2.06-.94-2.06-.94-.94-2.06-.94 2.06-2.06.94zm-11 1L8.5 8.5l.94-2.06 2.06-.94-2.06-.94L8.5 2.5l-.94 2.06-2.06.94zm10 10l.94 2.06.94-2.06 2.06-.94-2.06-.94-.94-2.06-.94 2.06-2.06.94z\"/><path d=\"M17.41 7.96l-1.37-1.37c-.4-.4-.92-.59-1.43-.59-.52 0-1.04.2-1.43.59L10.3 9.45l-7.72 7.72c-.78.78-.78 2.05 0 2.83L4 21.41c.39.39.9.59 1.41.59.51 0 1.02-.2 1.41-.59l7.78-7.78 2.81-2.81c.8-.78.8-2.07 0-2.86zM5.41 20L4 18.59l7.72-7.72 1.47 1.35L5.41 20z\"/>\n",
       "  </svg>\n",
       "      </button>\n",
       "      \n",
       "  <style>\n",
       "    .colab-df-container {\n",
       "      display:flex;\n",
       "      flex-wrap:wrap;\n",
       "      gap: 12px;\n",
       "    }\n",
       "\n",
       "    .colab-df-convert {\n",
       "      background-color: #E8F0FE;\n",
       "      border: none;\n",
       "      border-radius: 50%;\n",
       "      cursor: pointer;\n",
       "      display: none;\n",
       "      fill: #1967D2;\n",
       "      height: 32px;\n",
       "      padding: 0 0 0 0;\n",
       "      width: 32px;\n",
       "    }\n",
       "\n",
       "    .colab-df-convert:hover {\n",
       "      background-color: #E2EBFA;\n",
       "      box-shadow: 0px 1px 2px rgba(60, 64, 67, 0.3), 0px 1px 3px 1px rgba(60, 64, 67, 0.15);\n",
       "      fill: #174EA6;\n",
       "    }\n",
       "\n",
       "    [theme=dark] .colab-df-convert {\n",
       "      background-color: #3B4455;\n",
       "      fill: #D2E3FC;\n",
       "    }\n",
       "\n",
       "    [theme=dark] .colab-df-convert:hover {\n",
       "      background-color: #434B5C;\n",
       "      box-shadow: 0px 1px 3px 1px rgba(0, 0, 0, 0.15);\n",
       "      filter: drop-shadow(0px 1px 2px rgba(0, 0, 0, 0.3));\n",
       "      fill: #FFFFFF;\n",
       "    }\n",
       "  </style>\n",
       "\n",
       "      <script>\n",
       "        const buttonEl =\n",
       "          document.querySelector('#df-5c4c6d18-108b-4edd-a433-8d6da894be30 button.colab-df-convert');\n",
       "        buttonEl.style.display =\n",
       "          google.colab.kernel.accessAllowed ? 'block' : 'none';\n",
       "\n",
       "        async function convertToInteractive(key) {\n",
       "          const element = document.querySelector('#df-5c4c6d18-108b-4edd-a433-8d6da894be30');\n",
       "          const dataTable =\n",
       "            await google.colab.kernel.invokeFunction('convertToInteractive',\n",
       "                                                     [key], {});\n",
       "          if (!dataTable) return;\n",
       "\n",
       "          const docLinkHtml = 'Like what you see? Visit the ' +\n",
       "            '<a target=\"_blank\" href=https://colab.research.google.com/notebooks/data_table.ipynb>data table notebook</a>'\n",
       "            + ' to learn more about interactive tables.';\n",
       "          element.innerHTML = '';\n",
       "          dataTable['output_type'] = 'display_data';\n",
       "          await google.colab.output.renderOutput(dataTable, element);\n",
       "          const docLink = document.createElement('div');\n",
       "          docLink.innerHTML = docLinkHtml;\n",
       "          element.appendChild(docLink);\n",
       "        }\n",
       "      </script>\n",
       "    </div>\n",
       "  </div>\n",
       "  "
      ],
      "text/plain": [
       "    BELNR WAERS BUKRS KTOSL PRCTR BSCHL HKONT       DMBTR       WRBTR    label\n",
       "0  288203    C3   C31    C9   C92    A3    B1   280979.60        0.00  regular\n",
       "1  324441    C1   C18    C7   C76    A1    B2   129856.53   243343.00  regular\n",
       "2  133537    C1   C19    C2   C20    A1    B3   957463.97  3183838.41  regular\n",
       "3  331521    C4   C48    C9   C95    A2    B1  2681709.51    28778.00  regular\n",
       "4  375333    C5   C58    C1   C19    A3    B1   910514.49      346.00  regular\n",
       "5  327203    C1   C15    C6   C68    A1    B2   357627.56   704520.00  regular\n",
       "6  292545    C4   C47    C2   C28    A2    B3   955576.84   128328.00  regular\n",
       "7  335839    C1   C19    C1   C17    A1    B1    41769.26        0.00  regular\n",
       "8  369064    C4   C40    C9   C97    A2    B1    44309.79        0.00  regular\n",
       "9  138724    C6   C69    C1   C12    A2    B1   466720.45    43843.00  regular"
      ]
     },
     "execution_count": 13,
     "metadata": {},
     "output_type": "execute_result"
    }
   ],
   "source": [
    "# inspect top rows of dataset\n",
    "ori_dataset.head(10) "
   ]
  },
  {
   "cell_type": "markdown",
   "metadata": {
    "id": "sIxzhYaPw1GP"
   },
   "source": [
    "В данных также присутствует метка атрибута (label). Будем использовать это поле во всей работе для оценки качества наших обученных моделей. Поле описывает истинный характер каждой отдельной транзакции, будь то обычная транзакция (обозначается как \"regular\") или аномалия (обозначается как \"global\" и \"local\"). Рассмотрим распределение обычных и аномальных транзакций в наборе данных:"
   ]
  },
  {
   "cell_type": "code",
   "execution_count": 14,
   "metadata": {
    "colab": {
     "base_uri": "https://localhost:8080/"
    },
    "id": "xM8QwJtQ82-b",
    "outputId": "23aec9fe-314a-4ab0-f99b-1a905e848bf7"
   },
   "outputs": [
    {
     "data": {
      "text/plain": [
       "regular    532909\n",
       "global         70\n",
       "local          30\n",
       "Name: label, dtype: int64"
      ]
     },
     "execution_count": 14,
     "metadata": {},
     "output_type": "execute_result"
    }
   ],
   "source": [
    "# number of anomalies vs. regular transactions\n",
    "ori_dataset.label.value_counts()"
   ]
  },
  {
   "cell_type": "code",
   "execution_count": 15,
   "metadata": {
    "colab": {
     "base_uri": "https://localhost:8080/"
    },
    "id": "-B52j7kPxCh2",
    "outputId": "8f697e59-827a-44f5-bbc9-8fad13860fc6"
   },
   "outputs": [
    {
     "data": {
      "text/plain": [
       "regular    0.999812\n",
       "global     0.000131\n",
       "local      0.000056\n",
       "Name: label, dtype: float64"
      ]
     },
     "execution_count": 15,
     "metadata": {},
     "output_type": "execute_result"
    }
   ],
   "source": [
    "ori_dataset.label.value_counts(normalize=True)"
   ]
  },
  {
   "cell_type": "markdown",
   "metadata": {
    "id": "2dWfeC4wxKun"
   },
   "source": [
    "Статистика показывает, что, как и в реальных сценариях, мы сталкиваемся с крайне «несбалансированным» набором данных. В целом набор данных содержит лишь небольшую часть аномальных транзакций. В то время как 100 аномальных записей охватывают 70 (0,013%) «глобальных» аномалий и 30 (0,005%) «локальных» аномалий."
   ]
  },
  {
   "cell_type": "code",
   "execution_count": 16,
   "metadata": {
    "id": "arUtOPMB82-b"
   },
   "outputs": [],
   "source": [
    "# удалить информацию о метках  для следующих шагов работы\n",
    "label = ori_dataset.pop('label')"
   ]
  },
  {
   "cell_type": "code",
   "execution_count": 17,
   "metadata": {
    "colab": {
     "base_uri": "https://localhost:8080/"
    },
    "id": "H7O1gQZ4xxdt",
    "outputId": "640db098-863b-4b00-e90e-c1dd1809c8d2"
   },
   "outputs": [
    {
     "data": {
      "text/plain": [
       "0         regular\n",
       "1         regular\n",
       "2         regular\n",
       "3         regular\n",
       "4         regular\n",
       "           ...   \n",
       "533004    regular\n",
       "533005    regular\n",
       "533006    regular\n",
       "533007    regular\n",
       "533008    regular\n",
       "Name: label, Length: 533009, dtype: object"
      ]
     },
     "execution_count": 17,
     "metadata": {},
     "output_type": "execute_result"
    }
   ],
   "source": [
    "label"
   ]
  },
  {
   "cell_type": "code",
   "execution_count": 18,
   "metadata": {
    "colab": {
     "base_uri": "https://localhost:8080/",
     "height": 424
    },
    "id": "qURJSM_dxzSD",
    "outputId": "496c9eb1-88f2-475d-8881-d2d61fd9b9a8"
   },
   "outputs": [
    {
     "data": {
      "text/html": [
       "\n",
       "  <div id=\"df-ccfd5435-f518-4c65-a782-97982855ecd2\">\n",
       "    <div class=\"colab-df-container\">\n",
       "      <div>\n",
       "<style scoped>\n",
       "    .dataframe tbody tr th:only-of-type {\n",
       "        vertical-align: middle;\n",
       "    }\n",
       "\n",
       "    .dataframe tbody tr th {\n",
       "        vertical-align: top;\n",
       "    }\n",
       "\n",
       "    .dataframe thead th {\n",
       "        text-align: right;\n",
       "    }\n",
       "</style>\n",
       "<table border=\"1\" class=\"dataframe\">\n",
       "  <thead>\n",
       "    <tr style=\"text-align: right;\">\n",
       "      <th></th>\n",
       "      <th>BELNR</th>\n",
       "      <th>WAERS</th>\n",
       "      <th>BUKRS</th>\n",
       "      <th>KTOSL</th>\n",
       "      <th>PRCTR</th>\n",
       "      <th>BSCHL</th>\n",
       "      <th>HKONT</th>\n",
       "      <th>DMBTR</th>\n",
       "      <th>WRBTR</th>\n",
       "    </tr>\n",
       "  </thead>\n",
       "  <tbody>\n",
       "    <tr>\n",
       "      <th>0</th>\n",
       "      <td>288203</td>\n",
       "      <td>C3</td>\n",
       "      <td>C31</td>\n",
       "      <td>C9</td>\n",
       "      <td>C92</td>\n",
       "      <td>A3</td>\n",
       "      <td>B1</td>\n",
       "      <td>280979.60</td>\n",
       "      <td>0.00</td>\n",
       "    </tr>\n",
       "    <tr>\n",
       "      <th>1</th>\n",
       "      <td>324441</td>\n",
       "      <td>C1</td>\n",
       "      <td>C18</td>\n",
       "      <td>C7</td>\n",
       "      <td>C76</td>\n",
       "      <td>A1</td>\n",
       "      <td>B2</td>\n",
       "      <td>129856.53</td>\n",
       "      <td>243343.00</td>\n",
       "    </tr>\n",
       "    <tr>\n",
       "      <th>2</th>\n",
       "      <td>133537</td>\n",
       "      <td>C1</td>\n",
       "      <td>C19</td>\n",
       "      <td>C2</td>\n",
       "      <td>C20</td>\n",
       "      <td>A1</td>\n",
       "      <td>B3</td>\n",
       "      <td>957463.97</td>\n",
       "      <td>3183838.41</td>\n",
       "    </tr>\n",
       "    <tr>\n",
       "      <th>3</th>\n",
       "      <td>331521</td>\n",
       "      <td>C4</td>\n",
       "      <td>C48</td>\n",
       "      <td>C9</td>\n",
       "      <td>C95</td>\n",
       "      <td>A2</td>\n",
       "      <td>B1</td>\n",
       "      <td>2681709.51</td>\n",
       "      <td>28778.00</td>\n",
       "    </tr>\n",
       "    <tr>\n",
       "      <th>4</th>\n",
       "      <td>375333</td>\n",
       "      <td>C5</td>\n",
       "      <td>C58</td>\n",
       "      <td>C1</td>\n",
       "      <td>C19</td>\n",
       "      <td>A3</td>\n",
       "      <td>B1</td>\n",
       "      <td>910514.49</td>\n",
       "      <td>346.00</td>\n",
       "    </tr>\n",
       "    <tr>\n",
       "      <th>...</th>\n",
       "      <td>...</td>\n",
       "      <td>...</td>\n",
       "      <td>...</td>\n",
       "      <td>...</td>\n",
       "      <td>...</td>\n",
       "      <td>...</td>\n",
       "      <td>...</td>\n",
       "      <td>...</td>\n",
       "      <td>...</td>\n",
       "    </tr>\n",
       "    <tr>\n",
       "      <th>533004</th>\n",
       "      <td>446818</td>\n",
       "      <td>C1</td>\n",
       "      <td>C18</td>\n",
       "      <td>C3</td>\n",
       "      <td>C32</td>\n",
       "      <td>A1</td>\n",
       "      <td>B2</td>\n",
       "      <td>2501589.15</td>\n",
       "      <td>0.00</td>\n",
       "    </tr>\n",
       "    <tr>\n",
       "      <th>533005</th>\n",
       "      <td>455564</td>\n",
       "      <td>C8</td>\n",
       "      <td>C80</td>\n",
       "      <td>C1</td>\n",
       "      <td>C11</td>\n",
       "      <td>A1</td>\n",
       "      <td>B1</td>\n",
       "      <td>390076.18</td>\n",
       "      <td>12065.45</td>\n",
       "    </tr>\n",
       "    <tr>\n",
       "      <th>533006</th>\n",
       "      <td>156896</td>\n",
       "      <td>C1</td>\n",
       "      <td>C10</td>\n",
       "      <td>C1</td>\n",
       "      <td>C19</td>\n",
       "      <td>A1</td>\n",
       "      <td>B1</td>\n",
       "      <td>192147.38</td>\n",
       "      <td>326823.09</td>\n",
       "    </tr>\n",
       "    <tr>\n",
       "      <th>533007</th>\n",
       "      <td>455245</td>\n",
       "      <td>C1</td>\n",
       "      <td>C14</td>\n",
       "      <td>C4</td>\n",
       "      <td>C40</td>\n",
       "      <td>A1</td>\n",
       "      <td>B3</td>\n",
       "      <td>870539.68</td>\n",
       "      <td>0.00</td>\n",
       "    </tr>\n",
       "    <tr>\n",
       "      <th>533008</th>\n",
       "      <td>281395</td>\n",
       "      <td>C8</td>\n",
       "      <td>C80</td>\n",
       "      <td>C7</td>\n",
       "      <td>C78</td>\n",
       "      <td>A1</td>\n",
       "      <td>B2</td>\n",
       "      <td>532106.87</td>\n",
       "      <td>32467.08</td>\n",
       "    </tr>\n",
       "  </tbody>\n",
       "</table>\n",
       "<p>533009 rows × 9 columns</p>\n",
       "</div>\n",
       "      <button class=\"colab-df-convert\" onclick=\"convertToInteractive('df-ccfd5435-f518-4c65-a782-97982855ecd2')\"\n",
       "              title=\"Convert this dataframe to an interactive table.\"\n",
       "              style=\"display:none;\">\n",
       "        \n",
       "  <svg xmlns=\"http://www.w3.org/2000/svg\" height=\"24px\"viewBox=\"0 0 24 24\"\n",
       "       width=\"24px\">\n",
       "    <path d=\"M0 0h24v24H0V0z\" fill=\"none\"/>\n",
       "    <path d=\"M18.56 5.44l.94 2.06.94-2.06 2.06-.94-2.06-.94-.94-2.06-.94 2.06-2.06.94zm-11 1L8.5 8.5l.94-2.06 2.06-.94-2.06-.94L8.5 2.5l-.94 2.06-2.06.94zm10 10l.94 2.06.94-2.06 2.06-.94-2.06-.94-.94-2.06-.94 2.06-2.06.94z\"/><path d=\"M17.41 7.96l-1.37-1.37c-.4-.4-.92-.59-1.43-.59-.52 0-1.04.2-1.43.59L10.3 9.45l-7.72 7.72c-.78.78-.78 2.05 0 2.83L4 21.41c.39.39.9.59 1.41.59.51 0 1.02-.2 1.41-.59l7.78-7.78 2.81-2.81c.8-.78.8-2.07 0-2.86zM5.41 20L4 18.59l7.72-7.72 1.47 1.35L5.41 20z\"/>\n",
       "  </svg>\n",
       "      </button>\n",
       "      \n",
       "  <style>\n",
       "    .colab-df-container {\n",
       "      display:flex;\n",
       "      flex-wrap:wrap;\n",
       "      gap: 12px;\n",
       "    }\n",
       "\n",
       "    .colab-df-convert {\n",
       "      background-color: #E8F0FE;\n",
       "      border: none;\n",
       "      border-radius: 50%;\n",
       "      cursor: pointer;\n",
       "      display: none;\n",
       "      fill: #1967D2;\n",
       "      height: 32px;\n",
       "      padding: 0 0 0 0;\n",
       "      width: 32px;\n",
       "    }\n",
       "\n",
       "    .colab-df-convert:hover {\n",
       "      background-color: #E2EBFA;\n",
       "      box-shadow: 0px 1px 2px rgba(60, 64, 67, 0.3), 0px 1px 3px 1px rgba(60, 64, 67, 0.15);\n",
       "      fill: #174EA6;\n",
       "    }\n",
       "\n",
       "    [theme=dark] .colab-df-convert {\n",
       "      background-color: #3B4455;\n",
       "      fill: #D2E3FC;\n",
       "    }\n",
       "\n",
       "    [theme=dark] .colab-df-convert:hover {\n",
       "      background-color: #434B5C;\n",
       "      box-shadow: 0px 1px 3px 1px rgba(0, 0, 0, 0.15);\n",
       "      filter: drop-shadow(0px 1px 2px rgba(0, 0, 0, 0.3));\n",
       "      fill: #FFFFFF;\n",
       "    }\n",
       "  </style>\n",
       "\n",
       "      <script>\n",
       "        const buttonEl =\n",
       "          document.querySelector('#df-ccfd5435-f518-4c65-a782-97982855ecd2 button.colab-df-convert');\n",
       "        buttonEl.style.display =\n",
       "          google.colab.kernel.accessAllowed ? 'block' : 'none';\n",
       "\n",
       "        async function convertToInteractive(key) {\n",
       "          const element = document.querySelector('#df-ccfd5435-f518-4c65-a782-97982855ecd2');\n",
       "          const dataTable =\n",
       "            await google.colab.kernel.invokeFunction('convertToInteractive',\n",
       "                                                     [key], {});\n",
       "          if (!dataTable) return;\n",
       "\n",
       "          const docLinkHtml = 'Like what you see? Visit the ' +\n",
       "            '<a target=\"_blank\" href=https://colab.research.google.com/notebooks/data_table.ipynb>data table notebook</a>'\n",
       "            + ' to learn more about interactive tables.';\n",
       "          element.innerHTML = '';\n",
       "          dataTable['output_type'] = 'display_data';\n",
       "          await google.colab.output.renderOutput(dataTable, element);\n",
       "          const docLink = document.createElement('div');\n",
       "          docLink.innerHTML = docLinkHtml;\n",
       "          element.appendChild(docLink);\n",
       "        }\n",
       "      </script>\n",
       "    </div>\n",
       "  </div>\n",
       "  "
      ],
      "text/plain": [
       "         BELNR WAERS BUKRS KTOSL PRCTR BSCHL HKONT       DMBTR       WRBTR\n",
       "0       288203    C3   C31    C9   C92    A3    B1   280979.60        0.00\n",
       "1       324441    C1   C18    C7   C76    A1    B2   129856.53   243343.00\n",
       "2       133537    C1   C19    C2   C20    A1    B3   957463.97  3183838.41\n",
       "3       331521    C4   C48    C9   C95    A2    B1  2681709.51    28778.00\n",
       "4       375333    C5   C58    C1   C19    A3    B1   910514.49      346.00\n",
       "...        ...   ...   ...   ...   ...   ...   ...         ...         ...\n",
       "533004  446818    C1   C18    C3   C32    A1    B2  2501589.15        0.00\n",
       "533005  455564    C8   C80    C1   C11    A1    B1   390076.18    12065.45\n",
       "533006  156896    C1   C10    C1   C19    A1    B1   192147.38   326823.09\n",
       "533007  455245    C1   C14    C4   C40    A1    B3   870539.68        0.00\n",
       "533008  281395    C8   C80    C7   C78    A1    B2   532106.87    32467.08\n",
       "\n",
       "[533009 rows x 9 columns]"
      ]
     },
     "execution_count": 18,
     "metadata": {},
     "output_type": "execute_result"
    }
   ],
   "source": [
    "ori_dataset"
   ]
  },
  {
   "cell_type": "markdown",
   "metadata": {
    "id": "wPs3iLgW82-b"
   },
   "source": [
    "### 3.2 Предварительная обработка категориальных атрибутов транзакции"
   ]
  },
  {
   "cell_type": "code",
   "execution_count": 19,
   "metadata": {
    "colab": {
     "base_uri": "https://localhost:8080/"
    },
    "id": "AD0MXhNQyM_P",
    "outputId": "02e36788-a915-4b10-cca3-7b6a992099fc"
   },
   "outputs": [
    {
     "data": {
      "text/plain": [
       "BELNR      int64\n",
       "WAERS     object\n",
       "BUKRS     object\n",
       "KTOSL     object\n",
       "PRCTR     object\n",
       "BSCHL     object\n",
       "HKONT     object\n",
       "DMBTR    float64\n",
       "WRBTR    float64\n",
       "dtype: object"
      ]
     },
     "execution_count": 19,
     "metadata": {},
     "output_type": "execute_result"
    }
   ],
   "source": [
    "ori_dataset.dtypes # определяем тип данных атрибутов"
   ]
  },
  {
   "cell_type": "markdown",
   "metadata": {
    "id": "gMf5YFvqybyW"
   },
   "source": [
    "Из приведенной выше исходной оценки данных видно, что большинство атрибутов, записанных в ERP системе, соответствуют категориальным (дискретным) значениям атрибутов. \n",
    "\n",
    "Нейронные сети, как правило, не предназначены для обучения непосредственно на категориальных данных и требуют, чтобы атрибуты для обучения были числовыми. Одним из простых способов удовлетворить это требование является применение метода **«one-hote-encoding»**. Используя этот метод кодирования, мы получим числовое представление каждого из значений категориального атрибута. Кодирование создает новые двоичные столбцы для каждого значения категориального атрибута, присутствующего в исходных данных.\n",
    "\n",
    "Использование этого метода будет \"one-hot\" кодированием 4 категориальных атрибутов в исходном наборе транзакционных данных. Этого можно добиться с помощью функции get_dummies(), доступной в библиотеке данных Pandas:"
   ]
  },
  {
   "cell_type": "code",
   "execution_count": 21,
   "metadata": {
    "id": "xvghiScK82-c"
   },
   "outputs": [],
   "source": [
    "# select categorical attributes to be \"one-hot\" encoded\n",
    "categorical_attr_names = ['KTOSL', 'PRCTR', 'BSCHL', 'HKONT']\n",
    "\n",
    "# encode categorical attributes into a binary one-hot encoded representation \n",
    "ori_dataset_categ_transformed = pd.get_dummies(ori_dataset[categorical_attr_names])"
   ]
  },
  {
   "cell_type": "markdown",
   "metadata": {},
   "source": [
    "**В построении модели не будут учитываться атрибумы WAERS (Код валюты), BELNR (№ документа) и BUKRS (Код компании)**, т.к. данные признаки не несут существенной роли при определении мошеннических финансовых операций."
   ]
  },
  {
   "cell_type": "code",
   "execution_count": 22,
   "metadata": {
    "colab": {
     "base_uri": "https://localhost:8080/",
     "height": 456
    },
    "id": "-EAtFJhU82-d",
    "outputId": "0a62821b-6a63-461c-d8aa-99c7e629c02a"
   },
   "outputs": [
    {
     "data": {
      "text/html": [
       "\n",
       "  <div id=\"df-519dd029-a224-4df0-ab0f-31d7dc0f6156\">\n",
       "    <div class=\"colab-df-container\">\n",
       "      <div>\n",
       "<style scoped>\n",
       "    .dataframe tbody tr th:only-of-type {\n",
       "        vertical-align: middle;\n",
       "    }\n",
       "\n",
       "    .dataframe tbody tr th {\n",
       "        vertical-align: top;\n",
       "    }\n",
       "\n",
       "    .dataframe thead th {\n",
       "        text-align: right;\n",
       "    }\n",
       "</style>\n",
       "<table border=\"1\" class=\"dataframe\">\n",
       "  <thead>\n",
       "    <tr style=\"text-align: right;\">\n",
       "      <th></th>\n",
       "      <th>KTOSL_A19</th>\n",
       "      <th>KTOSL_B06</th>\n",
       "      <th>KTOSL_B12</th>\n",
       "      <th>KTOSL_B83</th>\n",
       "      <th>KTOSL_C1</th>\n",
       "      <th>KTOSL_C2</th>\n",
       "      <th>KTOSL_C3</th>\n",
       "      <th>KTOSL_C39</th>\n",
       "      <th>KTOSL_C4</th>\n",
       "      <th>KTOSL_C5</th>\n",
       "      <th>...</th>\n",
       "      <th>HKONT_V78</th>\n",
       "      <th>HKONT_V92</th>\n",
       "      <th>HKONT_W03</th>\n",
       "      <th>HKONT_W12</th>\n",
       "      <th>HKONT_W62</th>\n",
       "      <th>HKONT_X53</th>\n",
       "      <th>HKONT_Y03</th>\n",
       "      <th>HKONT_Y23</th>\n",
       "      <th>HKONT_Z01</th>\n",
       "      <th>HKONT_Z02</th>\n",
       "    </tr>\n",
       "  </thead>\n",
       "  <tbody>\n",
       "    <tr>\n",
       "      <th>0</th>\n",
       "      <td>0</td>\n",
       "      <td>0</td>\n",
       "      <td>0</td>\n",
       "      <td>0</td>\n",
       "      <td>0</td>\n",
       "      <td>0</td>\n",
       "      <td>0</td>\n",
       "      <td>0</td>\n",
       "      <td>0</td>\n",
       "      <td>0</td>\n",
       "      <td>...</td>\n",
       "      <td>0</td>\n",
       "      <td>0</td>\n",
       "      <td>0</td>\n",
       "      <td>0</td>\n",
       "      <td>0</td>\n",
       "      <td>0</td>\n",
       "      <td>0</td>\n",
       "      <td>0</td>\n",
       "      <td>0</td>\n",
       "      <td>0</td>\n",
       "    </tr>\n",
       "    <tr>\n",
       "      <th>1</th>\n",
       "      <td>0</td>\n",
       "      <td>0</td>\n",
       "      <td>0</td>\n",
       "      <td>0</td>\n",
       "      <td>0</td>\n",
       "      <td>0</td>\n",
       "      <td>0</td>\n",
       "      <td>0</td>\n",
       "      <td>0</td>\n",
       "      <td>0</td>\n",
       "      <td>...</td>\n",
       "      <td>0</td>\n",
       "      <td>0</td>\n",
       "      <td>0</td>\n",
       "      <td>0</td>\n",
       "      <td>0</td>\n",
       "      <td>0</td>\n",
       "      <td>0</td>\n",
       "      <td>0</td>\n",
       "      <td>0</td>\n",
       "      <td>0</td>\n",
       "    </tr>\n",
       "    <tr>\n",
       "      <th>2</th>\n",
       "      <td>0</td>\n",
       "      <td>0</td>\n",
       "      <td>0</td>\n",
       "      <td>0</td>\n",
       "      <td>0</td>\n",
       "      <td>1</td>\n",
       "      <td>0</td>\n",
       "      <td>0</td>\n",
       "      <td>0</td>\n",
       "      <td>0</td>\n",
       "      <td>...</td>\n",
       "      <td>0</td>\n",
       "      <td>0</td>\n",
       "      <td>0</td>\n",
       "      <td>0</td>\n",
       "      <td>0</td>\n",
       "      <td>0</td>\n",
       "      <td>0</td>\n",
       "      <td>0</td>\n",
       "      <td>0</td>\n",
       "      <td>0</td>\n",
       "    </tr>\n",
       "    <tr>\n",
       "      <th>3</th>\n",
       "      <td>0</td>\n",
       "      <td>0</td>\n",
       "      <td>0</td>\n",
       "      <td>0</td>\n",
       "      <td>0</td>\n",
       "      <td>0</td>\n",
       "      <td>0</td>\n",
       "      <td>0</td>\n",
       "      <td>0</td>\n",
       "      <td>0</td>\n",
       "      <td>...</td>\n",
       "      <td>0</td>\n",
       "      <td>0</td>\n",
       "      <td>0</td>\n",
       "      <td>0</td>\n",
       "      <td>0</td>\n",
       "      <td>0</td>\n",
       "      <td>0</td>\n",
       "      <td>0</td>\n",
       "      <td>0</td>\n",
       "      <td>0</td>\n",
       "    </tr>\n",
       "    <tr>\n",
       "      <th>4</th>\n",
       "      <td>0</td>\n",
       "      <td>0</td>\n",
       "      <td>0</td>\n",
       "      <td>0</td>\n",
       "      <td>1</td>\n",
       "      <td>0</td>\n",
       "      <td>0</td>\n",
       "      <td>0</td>\n",
       "      <td>0</td>\n",
       "      <td>0</td>\n",
       "      <td>...</td>\n",
       "      <td>0</td>\n",
       "      <td>0</td>\n",
       "      <td>0</td>\n",
       "      <td>0</td>\n",
       "      <td>0</td>\n",
       "      <td>0</td>\n",
       "      <td>0</td>\n",
       "      <td>0</td>\n",
       "      <td>0</td>\n",
       "      <td>0</td>\n",
       "    </tr>\n",
       "    <tr>\n",
       "      <th>5</th>\n",
       "      <td>0</td>\n",
       "      <td>0</td>\n",
       "      <td>0</td>\n",
       "      <td>0</td>\n",
       "      <td>0</td>\n",
       "      <td>0</td>\n",
       "      <td>0</td>\n",
       "      <td>0</td>\n",
       "      <td>0</td>\n",
       "      <td>0</td>\n",
       "      <td>...</td>\n",
       "      <td>0</td>\n",
       "      <td>0</td>\n",
       "      <td>0</td>\n",
       "      <td>0</td>\n",
       "      <td>0</td>\n",
       "      <td>0</td>\n",
       "      <td>0</td>\n",
       "      <td>0</td>\n",
       "      <td>0</td>\n",
       "      <td>0</td>\n",
       "    </tr>\n",
       "    <tr>\n",
       "      <th>6</th>\n",
       "      <td>0</td>\n",
       "      <td>0</td>\n",
       "      <td>0</td>\n",
       "      <td>0</td>\n",
       "      <td>0</td>\n",
       "      <td>1</td>\n",
       "      <td>0</td>\n",
       "      <td>0</td>\n",
       "      <td>0</td>\n",
       "      <td>0</td>\n",
       "      <td>...</td>\n",
       "      <td>0</td>\n",
       "      <td>0</td>\n",
       "      <td>0</td>\n",
       "      <td>0</td>\n",
       "      <td>0</td>\n",
       "      <td>0</td>\n",
       "      <td>0</td>\n",
       "      <td>0</td>\n",
       "      <td>0</td>\n",
       "      <td>0</td>\n",
       "    </tr>\n",
       "    <tr>\n",
       "      <th>7</th>\n",
       "      <td>0</td>\n",
       "      <td>0</td>\n",
       "      <td>0</td>\n",
       "      <td>0</td>\n",
       "      <td>1</td>\n",
       "      <td>0</td>\n",
       "      <td>0</td>\n",
       "      <td>0</td>\n",
       "      <td>0</td>\n",
       "      <td>0</td>\n",
       "      <td>...</td>\n",
       "      <td>0</td>\n",
       "      <td>0</td>\n",
       "      <td>0</td>\n",
       "      <td>0</td>\n",
       "      <td>0</td>\n",
       "      <td>0</td>\n",
       "      <td>0</td>\n",
       "      <td>0</td>\n",
       "      <td>0</td>\n",
       "      <td>0</td>\n",
       "    </tr>\n",
       "    <tr>\n",
       "      <th>8</th>\n",
       "      <td>0</td>\n",
       "      <td>0</td>\n",
       "      <td>0</td>\n",
       "      <td>0</td>\n",
       "      <td>0</td>\n",
       "      <td>0</td>\n",
       "      <td>0</td>\n",
       "      <td>0</td>\n",
       "      <td>0</td>\n",
       "      <td>0</td>\n",
       "      <td>...</td>\n",
       "      <td>0</td>\n",
       "      <td>0</td>\n",
       "      <td>0</td>\n",
       "      <td>0</td>\n",
       "      <td>0</td>\n",
       "      <td>0</td>\n",
       "      <td>0</td>\n",
       "      <td>0</td>\n",
       "      <td>0</td>\n",
       "      <td>0</td>\n",
       "    </tr>\n",
       "    <tr>\n",
       "      <th>9</th>\n",
       "      <td>0</td>\n",
       "      <td>0</td>\n",
       "      <td>0</td>\n",
       "      <td>0</td>\n",
       "      <td>1</td>\n",
       "      <td>0</td>\n",
       "      <td>0</td>\n",
       "      <td>0</td>\n",
       "      <td>0</td>\n",
       "      <td>0</td>\n",
       "      <td>...</td>\n",
       "      <td>0</td>\n",
       "      <td>0</td>\n",
       "      <td>0</td>\n",
       "      <td>0</td>\n",
       "      <td>0</td>\n",
       "      <td>0</td>\n",
       "      <td>0</td>\n",
       "      <td>0</td>\n",
       "      <td>0</td>\n",
       "      <td>0</td>\n",
       "    </tr>\n",
       "  </tbody>\n",
       "</table>\n",
       "<p>10 rows × 382 columns</p>\n",
       "</div>\n",
       "      <button class=\"colab-df-convert\" onclick=\"convertToInteractive('df-519dd029-a224-4df0-ab0f-31d7dc0f6156')\"\n",
       "              title=\"Convert this dataframe to an interactive table.\"\n",
       "              style=\"display:none;\">\n",
       "        \n",
       "  <svg xmlns=\"http://www.w3.org/2000/svg\" height=\"24px\"viewBox=\"0 0 24 24\"\n",
       "       width=\"24px\">\n",
       "    <path d=\"M0 0h24v24H0V0z\" fill=\"none\"/>\n",
       "    <path d=\"M18.56 5.44l.94 2.06.94-2.06 2.06-.94-2.06-.94-.94-2.06-.94 2.06-2.06.94zm-11 1L8.5 8.5l.94-2.06 2.06-.94-2.06-.94L8.5 2.5l-.94 2.06-2.06.94zm10 10l.94 2.06.94-2.06 2.06-.94-2.06-.94-.94-2.06-.94 2.06-2.06.94z\"/><path d=\"M17.41 7.96l-1.37-1.37c-.4-.4-.92-.59-1.43-.59-.52 0-1.04.2-1.43.59L10.3 9.45l-7.72 7.72c-.78.78-.78 2.05 0 2.83L4 21.41c.39.39.9.59 1.41.59.51 0 1.02-.2 1.41-.59l7.78-7.78 2.81-2.81c.8-.78.8-2.07 0-2.86zM5.41 20L4 18.59l7.72-7.72 1.47 1.35L5.41 20z\"/>\n",
       "  </svg>\n",
       "      </button>\n",
       "      \n",
       "  <style>\n",
       "    .colab-df-container {\n",
       "      display:flex;\n",
       "      flex-wrap:wrap;\n",
       "      gap: 12px;\n",
       "    }\n",
       "\n",
       "    .colab-df-convert {\n",
       "      background-color: #E8F0FE;\n",
       "      border: none;\n",
       "      border-radius: 50%;\n",
       "      cursor: pointer;\n",
       "      display: none;\n",
       "      fill: #1967D2;\n",
       "      height: 32px;\n",
       "      padding: 0 0 0 0;\n",
       "      width: 32px;\n",
       "    }\n",
       "\n",
       "    .colab-df-convert:hover {\n",
       "      background-color: #E2EBFA;\n",
       "      box-shadow: 0px 1px 2px rgba(60, 64, 67, 0.3), 0px 1px 3px 1px rgba(60, 64, 67, 0.15);\n",
       "      fill: #174EA6;\n",
       "    }\n",
       "\n",
       "    [theme=dark] .colab-df-convert {\n",
       "      background-color: #3B4455;\n",
       "      fill: #D2E3FC;\n",
       "    }\n",
       "\n",
       "    [theme=dark] .colab-df-convert:hover {\n",
       "      background-color: #434B5C;\n",
       "      box-shadow: 0px 1px 3px 1px rgba(0, 0, 0, 0.15);\n",
       "      filter: drop-shadow(0px 1px 2px rgba(0, 0, 0, 0.3));\n",
       "      fill: #FFFFFF;\n",
       "    }\n",
       "  </style>\n",
       "\n",
       "      <script>\n",
       "        const buttonEl =\n",
       "          document.querySelector('#df-519dd029-a224-4df0-ab0f-31d7dc0f6156 button.colab-df-convert');\n",
       "        buttonEl.style.display =\n",
       "          google.colab.kernel.accessAllowed ? 'block' : 'none';\n",
       "\n",
       "        async function convertToInteractive(key) {\n",
       "          const element = document.querySelector('#df-519dd029-a224-4df0-ab0f-31d7dc0f6156');\n",
       "          const dataTable =\n",
       "            await google.colab.kernel.invokeFunction('convertToInteractive',\n",
       "                                                     [key], {});\n",
       "          if (!dataTable) return;\n",
       "\n",
       "          const docLinkHtml = 'Like what you see? Visit the ' +\n",
       "            '<a target=\"_blank\" href=https://colab.research.google.com/notebooks/data_table.ipynb>data table notebook</a>'\n",
       "            + ' to learn more about interactive tables.';\n",
       "          element.innerHTML = '';\n",
       "          dataTable['output_type'] = 'display_data';\n",
       "          await google.colab.output.renderOutput(dataTable, element);\n",
       "          const docLink = document.createElement('div');\n",
       "          docLink.innerHTML = docLinkHtml;\n",
       "          element.appendChild(docLink);\n",
       "        }\n",
       "      </script>\n",
       "    </div>\n",
       "  </div>\n",
       "  "
      ],
      "text/plain": [
       "   KTOSL_A19  KTOSL_B06  KTOSL_B12  KTOSL_B83  KTOSL_C1  KTOSL_C2  KTOSL_C3  \\\n",
       "0          0          0          0          0         0         0         0   \n",
       "1          0          0          0          0         0         0         0   \n",
       "2          0          0          0          0         0         1         0   \n",
       "3          0          0          0          0         0         0         0   \n",
       "4          0          0          0          0         1         0         0   \n",
       "5          0          0          0          0         0         0         0   \n",
       "6          0          0          0          0         0         1         0   \n",
       "7          0          0          0          0         1         0         0   \n",
       "8          0          0          0          0         0         0         0   \n",
       "9          0          0          0          0         1         0         0   \n",
       "\n",
       "   KTOSL_C39  KTOSL_C4  KTOSL_C5  ...  HKONT_V78  HKONT_V92  HKONT_W03  \\\n",
       "0          0         0         0  ...          0          0          0   \n",
       "1          0         0         0  ...          0          0          0   \n",
       "2          0         0         0  ...          0          0          0   \n",
       "3          0         0         0  ...          0          0          0   \n",
       "4          0         0         0  ...          0          0          0   \n",
       "5          0         0         0  ...          0          0          0   \n",
       "6          0         0         0  ...          0          0          0   \n",
       "7          0         0         0  ...          0          0          0   \n",
       "8          0         0         0  ...          0          0          0   \n",
       "9          0         0         0  ...          0          0          0   \n",
       "\n",
       "   HKONT_W12  HKONT_W62  HKONT_X53  HKONT_Y03  HKONT_Y23  HKONT_Z01  HKONT_Z02  \n",
       "0          0          0          0          0          0          0          0  \n",
       "1          0          0          0          0          0          0          0  \n",
       "2          0          0          0          0          0          0          0  \n",
       "3          0          0          0          0          0          0          0  \n",
       "4          0          0          0          0          0          0          0  \n",
       "5          0          0          0          0          0          0          0  \n",
       "6          0          0          0          0          0          0          0  \n",
       "7          0          0          0          0          0          0          0  \n",
       "8          0          0          0          0          0          0          0  \n",
       "9          0          0          0          0          0          0          0  \n",
       "\n",
       "[10 rows x 382 columns]"
      ]
     },
     "execution_count": 22,
     "metadata": {},
     "output_type": "execute_result"
    }
   ],
   "source": [
    "# inspect encoded sample transactions\n",
    "ori_dataset_categ_transformed.head(10)"
   ]
  },
  {
   "cell_type": "markdown",
   "metadata": {
    "id": "WWuubuHs82-d"
   },
   "source": [
    "### 3.2 Предварительная обработка числовых атрибутов"
   ]
  },
  {
   "cell_type": "markdown",
   "metadata": {
    "id": "t5q4o52d3ZZ4"
   },
   "source": [
    "Теперь проверим распределение двух числовых атрибутов, содержащихся в наборе транзакционных данных, а именно:сумма в локальной валюте \"DMBTR\" и сумма в валюте документа \"WRBTR\":"
   ]
  },
  {
   "cell_type": "code",
   "execution_count": 23,
   "metadata": {
    "colab": {
     "base_uri": "https://localhost:8080/",
     "height": 311
    },
    "id": "V4AGCdPC82-d",
    "outputId": "d29b0d6b-10e9-446b-ac2d-d81cc6351875"
   },
   "outputs": [
    {
     "data": {
      "text/plain": [
       "Text(0.5, 1.0, 'Distribution of WRBTR amount values')"
      ]
     },
     "execution_count": 23,
     "metadata": {},
     "output_type": "execute_result"
    },
    {
     "data": {
      "image/png": "[encoded data removed]",
      "text/plain": [
       "<Figure size 1440x288 with 2 Axes>"
      ]
     },
     "metadata": {
      "needs_background": "light"
     },
     "output_type": "display_data"
    }
   ],
   "source": [
    "# plot the log-scaled \"DMBTR\" as well as the \"WRBTR\" attribute value distribution\n",
    "fig, ax = plt.subplots(1,2)\n",
    "fig.set_figwidth(20)\n",
    "\n",
    "# plot distribution of the local amount attribute (распределение local amount)\n",
    "g = sns.distplot(ori_dataset['DMBTR'].tolist(), ax=ax[0])\n",
    "g.set_title('Distribution of DMBTR amount values')\n",
    "\n",
    "# plot distribution of the document amount attribute (распределение document amount)\n",
    "g = sns.distplot(ori_dataset['WRBTR'].tolist(), ax=ax[1])\n",
    "g.set_title('Distribution of WRBTR amount values')"
   ]
  },
  {
   "cell_type": "markdown",
   "metadata": {
    "id": "hBfk57bG3pTf"
   },
   "source": [
    "Можно отметить, что для обоих атрибутов распределения значений количества имеют тяжелые хвосты. Чтобы быстрее приблизиться к потенциальному глобальному минимуму, рекомендуется масштабировать и нормализовать числовые входные значения. Поэтому мы сначала логарифмируем обе переменные, а затем нормализуем их значения в интервале [0, 1] методом min-max. \n",
    "\n",
    "Это стандартное действие, когда числовые признаки лежат в разных шкалах."
   ]
  },
  {
   "cell_type": "code",
   "execution_count": 24,
   "metadata": {
    "id": "ZH-NNVCA82-d"
   },
   "outputs": [],
   "source": [
    "# select \"DMBTR\" vs. \"WRBTR\" attribute\n",
    "numeric_attr_names = ['DMBTR', 'WRBTR']\n",
    "\n",
    "# add a small epsilon to eliminate zero values from data for log scaling\n",
    "numeric_attr = ori_dataset[numeric_attr_names] + 1e-7\n",
    "numeric_attr = numeric_attr.apply(np.log)\n",
    "\n",
    "# normalize all numeric attributes to the range [0,1]\n",
    "ori_dataset_numeric_attr = (numeric_attr - numeric_attr.min()) / (numeric_attr.max() - numeric_attr.min())"
   ]
  },
  {
   "cell_type": "markdown",
   "metadata": {
    "id": "dI2XluPs82-d"
   },
   "source": [
    "Теперь визуализируем логарифмическое и минимально-максимальное нормализованное распределения обоих атрибутов:"
   ]
  },
  {
   "cell_type": "code",
   "execution_count": 25,
   "metadata": {
    "colab": {
     "base_uri": "https://localhost:8080/",
     "height": 375
    },
    "id": "2dwjohOl82-d",
    "outputId": "51b58662-ead1-4dd4-a4a5-00bacb0d53da"
   },
   "outputs": [
    {
     "data": {
      "image/png": "[encoded data removed]",
      "text/plain": [
       "<Figure size 1080x360 with 6 Axes>"
      ]
     },
     "metadata": {
      "needs_background": "light"
     },
     "output_type": "display_data"
    }
   ],
   "source": [
    "# append 'label' attribute for colour distinction\n",
    "numeric_attr_vis = ori_dataset_numeric_attr.copy()\n",
    "numeric_attr_vis['label'] = label\n",
    "\n",
    "# plot the log-scaled and min-max normalized numeric attributes\n",
    "g = sns.pairplot(data=numeric_attr_vis, vars=numeric_attr_names, hue='label')\n",
    "g.fig.suptitle('Distribution of DMBTR vs. WRBTR amount values')\n",
    "g.fig.set_size_inches(15, 5)"
   ]
  },
  {
   "cell_type": "markdown",
   "metadata": {
    "id": "8emUwHir5JFC"
   },
   "source": [
    "Как ожидалось, числовые значения атрибутов «глобальных» аномалий (\"global\") выходят за пределы диапазона обычных распределений количества из-за их необычайно высоких значений. Напротив, числовые значения атрибутов «локальных» аномалий (\"local\") перемешаны с обычными суммами транзакций."
   ]
  },
  {
   "cell_type": "markdown",
   "metadata": {
    "id": "Mati8Bh982-e"
   },
   "source": [
    "### 3.3 Объединение категориальных и числовых транзакционных атрибутов"
   ]
  },
  {
   "cell_type": "markdown",
   "metadata": {
    "id": "D--DL1_y5hJA"
   },
   "source": [
    "Далее, объединим как предварительно обработанные числовые и категориальные атрибуты в единый набор данных, который мы будем использовать для обучения нашей глубокой нейронной сети автоэнкодера (реализовано в  разделе 4):"
   ]
  },
  {
   "cell_type": "code",
   "execution_count": 26,
   "metadata": {
    "id": "qmmXHwE082-e"
   },
   "outputs": [],
   "source": [
    "# merge categorical and numeric subsets\n",
    "ori_subset_transformed = pd.concat([ori_dataset_categ_transformed, ori_dataset_numeric_attr], axis = 1)"
   ]
  },
  {
   "cell_type": "markdown",
   "metadata": {
    "id": "33FksEWF5sKQ"
   },
   "source": [
    "Посмотрим на размерность набора данных после того, как мы применили отдельные шаги предварительной обработки к атрибутам:"
   ]
  },
  {
   "cell_type": "code",
   "execution_count": 27,
   "metadata": {
    "colab": {
     "base_uri": "https://localhost:8080/"
    },
    "id": "XxyfL8vX82-e",
    "outputId": "5562ba2f-5d09-47c2-e70e-03b76e2b40e3"
   },
   "outputs": [
    {
     "data": {
      "text/plain": [
       "(533009, 384)"
      ]
     },
     "execution_count": 27,
     "metadata": {},
     "output_type": "execute_result"
    }
   ],
   "source": [
    "# inspect final dimensions of pre-processed transactional data\n",
    "ori_subset_transformed.shape"
   ]
  },
  {
   "cell_type": "markdown",
   "metadata": {
    "id": "AAQgjYsCBdib"
   },
   "source": [
    "После завершения всех шагов предварительной обработки необходимо получить закодированный набор данных, состоящий из 533 009 записей (строк) и 384 закодированных атрибутов (столбцов). Число столбцов будет определять размерность входного и выходного слоев нашей глубокой сети автоэнкодера, которая будет реализована далее."
   ]
  },
  {
   "cell_type": "code",
   "execution_count": 29,
   "metadata": {
    "colab": {
     "base_uri": "https://localhost:8080/"
    },
    "id": "1kH1DcPplQKp",
    "outputId": "9d92788a-6ff3-46c0-d698-341d3ca3317a"
   },
   "outputs": [
    {
     "name": "stdout",
     "output_type": "stream",
     "text": [
      "Mounted at /content/drive\n"
     ]
    }
   ],
   "source": [
    "from google.colab import drive\n",
    "drive.mount('/content/drive')"
   ]
  },
  {
   "cell_type": "code",
   "execution_count": 30,
   "metadata": {
    "id": "IpyLwEHZBs7Y"
   },
   "outputs": [],
   "source": [
    "ori_subset_transformed.to_csv('/content/drive/MyDrive/Diploma_Polina/precessed_data.csv', index=False) # сохраняем обработанные данные"
   ]
  },
  {
   "cell_type": "markdown",
   "metadata": {
    "id": "BM4gDFeK82-f"
   },
   "source": [
    "## 4. Нейронные сети автоэнкодера (AENNs) "
   ]
  },
  {
   "cell_type": "markdown",
   "metadata": {
    "id": "8gObVGNg82-g"
   },
   "source": [
    "### 4.2 Реализация автоэнкодера"
   ]
  },
  {
   "cell_type": "markdown",
   "metadata": {
    "id": "Ihsbz_ugH_mD"
   },
   "source": [
    "Приступим к реализации автокодировщика, сначала реализовав сеть энкодера с помощью PyTorch. Для энкодера мы стремимся реализовать сеть, состоящую из девяти полносвязных слоев. Кроме того, кодировщик определяется следующим количеством нейронов на слой: «384-256-128-64-32-16-8-4-3». Это означает, что первый слой состоит из 384 нейронов (определяется размерностью наших входных данных), второй слой из 256 нейронов и последующие слои из 128, 64, 32, 16, 8, 4 и 3 нейронов соответственно."
   ]
  },
  {
   "cell_type": "markdown",
   "metadata": {
    "id": "Ekagk0ivIDwn"
   },
   "source": [
    "Некоторым элементам приведенного ниже сетевого кода кодировщика следует уделить особое внимание:\n",
    "\n",
    "> - self.encoder_Lx: определяет линейное преобразование слоя, применяемое к входу: Wx+b. \n",
    "> - nn.init.xavier_uniform: устанавливает веса слоев с использованием равномерного распределения  [2]. \n",
    "> - self.encoder_Rx: определяет нелинейное преобразование слоя: σ(⋅) - Это функция называется \"сигмойда\". \n",
    "> - self.dropout: случайным образом обнуляет некоторые элементы входного тензора с вероятностью p  [1]."
   ]
  },
  {
   "cell_type": "code",
   "execution_count": 31,
   "metadata": {
    "colab": {
     "base_uri": "https://localhost:8080/",
     "height": 300
    },
    "id": "4UEGGpyplEqY",
    "outputId": "a3669449-8a45-4be6-e8e1-3d7965dfbf1f"
   },
   "outputs": [
    {
     "data": {
      "text/html": [
       "\n",
       "  <div id=\"df-51c0e4cb-87da-42e5-a3a4-b4434fb4c3ee\">\n",
       "    <div class=\"colab-df-container\">\n",
       "      <div>\n",
       "<style scoped>\n",
       "    .dataframe tbody tr th:only-of-type {\n",
       "        vertical-align: middle;\n",
       "    }\n",
       "\n",
       "    .dataframe tbody tr th {\n",
       "        vertical-align: top;\n",
       "    }\n",
       "\n",
       "    .dataframe thead th {\n",
       "        text-align: right;\n",
       "    }\n",
       "</style>\n",
       "<table border=\"1\" class=\"dataframe\">\n",
       "  <thead>\n",
       "    <tr style=\"text-align: right;\">\n",
       "      <th></th>\n",
       "      <th>KTOSL_A19</th>\n",
       "      <th>KTOSL_B06</th>\n",
       "      <th>KTOSL_B12</th>\n",
       "      <th>KTOSL_B83</th>\n",
       "      <th>KTOSL_C1</th>\n",
       "      <th>KTOSL_C2</th>\n",
       "      <th>KTOSL_C3</th>\n",
       "      <th>KTOSL_C39</th>\n",
       "      <th>KTOSL_C4</th>\n",
       "      <th>KTOSL_C5</th>\n",
       "      <th>...</th>\n",
       "      <th>HKONT_W03</th>\n",
       "      <th>HKONT_W12</th>\n",
       "      <th>HKONT_W62</th>\n",
       "      <th>HKONT_X53</th>\n",
       "      <th>HKONT_Y03</th>\n",
       "      <th>HKONT_Y23</th>\n",
       "      <th>HKONT_Z01</th>\n",
       "      <th>HKONT_Z02</th>\n",
       "      <th>DMBTR</th>\n",
       "      <th>WRBTR</th>\n",
       "    </tr>\n",
       "  </thead>\n",
       "  <tbody>\n",
       "    <tr>\n",
       "      <th>0</th>\n",
       "      <td>0</td>\n",
       "      <td>0</td>\n",
       "      <td>0</td>\n",
       "      <td>0</td>\n",
       "      <td>0</td>\n",
       "      <td>0</td>\n",
       "      <td>0</td>\n",
       "      <td>0</td>\n",
       "      <td>0</td>\n",
       "      <td>0</td>\n",
       "      <td>...</td>\n",
       "      <td>0</td>\n",
       "      <td>0</td>\n",
       "      <td>0</td>\n",
       "      <td>0</td>\n",
       "      <td>0</td>\n",
       "      <td>0</td>\n",
       "      <td>0</td>\n",
       "      <td>0</td>\n",
       "      <td>0.666635</td>\n",
       "      <td>0.000000</td>\n",
       "    </tr>\n",
       "    <tr>\n",
       "      <th>1</th>\n",
       "      <td>0</td>\n",
       "      <td>0</td>\n",
       "      <td>0</td>\n",
       "      <td>0</td>\n",
       "      <td>0</td>\n",
       "      <td>0</td>\n",
       "      <td>0</td>\n",
       "      <td>0</td>\n",
       "      <td>0</td>\n",
       "      <td>0</td>\n",
       "      <td>...</td>\n",
       "      <td>0</td>\n",
       "      <td>0</td>\n",
       "      <td>0</td>\n",
       "      <td>0</td>\n",
       "      <td>0</td>\n",
       "      <td>0</td>\n",
       "      <td>0</td>\n",
       "      <td>0</td>\n",
       "      <td>0.622241</td>\n",
       "      <td>0.838315</td>\n",
       "    </tr>\n",
       "    <tr>\n",
       "      <th>2</th>\n",
       "      <td>0</td>\n",
       "      <td>0</td>\n",
       "      <td>0</td>\n",
       "      <td>0</td>\n",
       "      <td>0</td>\n",
       "      <td>1</td>\n",
       "      <td>0</td>\n",
       "      <td>0</td>\n",
       "      <td>0</td>\n",
       "      <td>0</td>\n",
       "      <td>...</td>\n",
       "      <td>0</td>\n",
       "      <td>0</td>\n",
       "      <td>0</td>\n",
       "      <td>0</td>\n",
       "      <td>0</td>\n",
       "      <td>0</td>\n",
       "      <td>0</td>\n",
       "      <td>0</td>\n",
       "      <td>0.737149</td>\n",
       "      <td>0.913897</td>\n",
       "    </tr>\n",
       "    <tr>\n",
       "      <th>3</th>\n",
       "      <td>0</td>\n",
       "      <td>0</td>\n",
       "      <td>0</td>\n",
       "      <td>0</td>\n",
       "      <td>0</td>\n",
       "      <td>0</td>\n",
       "      <td>0</td>\n",
       "      <td>0</td>\n",
       "      <td>0</td>\n",
       "      <td>0</td>\n",
       "      <td>...</td>\n",
       "      <td>0</td>\n",
       "      <td>0</td>\n",
       "      <td>0</td>\n",
       "      <td>0</td>\n",
       "      <td>0</td>\n",
       "      <td>0</td>\n",
       "      <td>0</td>\n",
       "      <td>0</td>\n",
       "      <td>0.796386</td>\n",
       "      <td>0.775564</td>\n",
       "    </tr>\n",
       "    <tr>\n",
       "      <th>4</th>\n",
       "      <td>0</td>\n",
       "      <td>0</td>\n",
       "      <td>0</td>\n",
       "      <td>0</td>\n",
       "      <td>1</td>\n",
       "      <td>0</td>\n",
       "      <td>0</td>\n",
       "      <td>0</td>\n",
       "      <td>0</td>\n",
       "      <td>0</td>\n",
       "      <td>...</td>\n",
       "      <td>0</td>\n",
       "      <td>0</td>\n",
       "      <td>0</td>\n",
       "      <td>0</td>\n",
       "      <td>0</td>\n",
       "      <td>0</td>\n",
       "      <td>0</td>\n",
       "      <td>0</td>\n",
       "      <td>0.734257</td>\n",
       "      <td>0.645617</td>\n",
       "    </tr>\n",
       "  </tbody>\n",
       "</table>\n",
       "<p>5 rows × 384 columns</p>\n",
       "</div>\n",
       "      <button class=\"colab-df-convert\" onclick=\"convertToInteractive('df-51c0e4cb-87da-42e5-a3a4-b4434fb4c3ee')\"\n",
       "              title=\"Convert this dataframe to an interactive table.\"\n",
       "              style=\"display:none;\">\n",
       "        \n",
       "  <svg xmlns=\"http://www.w3.org/2000/svg\" height=\"24px\"viewBox=\"0 0 24 24\"\n",
       "       width=\"24px\">\n",
       "    <path d=\"M0 0h24v24H0V0z\" fill=\"none\"/>\n",
       "    <path d=\"M18.56 5.44l.94 2.06.94-2.06 2.06-.94-2.06-.94-.94-2.06-.94 2.06-2.06.94zm-11 1L8.5 8.5l.94-2.06 2.06-.94-2.06-.94L8.5 2.5l-.94 2.06-2.06.94zm10 10l.94 2.06.94-2.06 2.06-.94-2.06-.94-.94-2.06-.94 2.06-2.06.94z\"/><path d=\"M17.41 7.96l-1.37-1.37c-.4-.4-.92-.59-1.43-.59-.52 0-1.04.2-1.43.59L10.3 9.45l-7.72 7.72c-.78.78-.78 2.05 0 2.83L4 21.41c.39.39.9.59 1.41.59.51 0 1.02-.2 1.41-.59l7.78-7.78 2.81-2.81c.8-.78.8-2.07 0-2.86zM5.41 20L4 18.59l7.72-7.72 1.47 1.35L5.41 20z\"/>\n",
       "  </svg>\n",
       "      </button>\n",
       "      \n",
       "  <style>\n",
       "    .colab-df-container {\n",
       "      display:flex;\n",
       "      flex-wrap:wrap;\n",
       "      gap: 12px;\n",
       "    }\n",
       "\n",
       "    .colab-df-convert {\n",
       "      background-color: #E8F0FE;\n",
       "      border: none;\n",
       "      border-radius: 50%;\n",
       "      cursor: pointer;\n",
       "      display: none;\n",
       "      fill: #1967D2;\n",
       "      height: 32px;\n",
       "      padding: 0 0 0 0;\n",
       "      width: 32px;\n",
       "    }\n",
       "\n",
       "    .colab-df-convert:hover {\n",
       "      background-color: #E2EBFA;\n",
       "      box-shadow: 0px 1px 2px rgba(60, 64, 67, 0.3), 0px 1px 3px 1px rgba(60, 64, 67, 0.15);\n",
       "      fill: #174EA6;\n",
       "    }\n",
       "\n",
       "    [theme=dark] .colab-df-convert {\n",
       "      background-color: #3B4455;\n",
       "      fill: #D2E3FC;\n",
       "    }\n",
       "\n",
       "    [theme=dark] .colab-df-convert:hover {\n",
       "      background-color: #434B5C;\n",
       "      box-shadow: 0px 1px 3px 1px rgba(0, 0, 0, 0.15);\n",
       "      filter: drop-shadow(0px 1px 2px rgba(0, 0, 0, 0.3));\n",
       "      fill: #FFFFFF;\n",
       "    }\n",
       "  </style>\n",
       "\n",
       "      <script>\n",
       "        const buttonEl =\n",
       "          document.querySelector('#df-51c0e4cb-87da-42e5-a3a4-b4434fb4c3ee button.colab-df-convert');\n",
       "        buttonEl.style.display =\n",
       "          google.colab.kernel.accessAllowed ? 'block' : 'none';\n",
       "\n",
       "        async function convertToInteractive(key) {\n",
       "          const element = document.querySelector('#df-51c0e4cb-87da-42e5-a3a4-b4434fb4c3ee');\n",
       "          const dataTable =\n",
       "            await google.colab.kernel.invokeFunction('convertToInteractive',\n",
       "                                                     [key], {});\n",
       "          if (!dataTable) return;\n",
       "\n",
       "          const docLinkHtml = 'Like what you see? Visit the ' +\n",
       "            '<a target=\"_blank\" href=https://colab.research.google.com/notebooks/data_table.ipynb>data table notebook</a>'\n",
       "            + ' to learn more about interactive tables.';\n",
       "          element.innerHTML = '';\n",
       "          dataTable['output_type'] = 'display_data';\n",
       "          await google.colab.output.renderOutput(dataTable, element);\n",
       "          const docLink = document.createElement('div');\n",
       "          docLink.innerHTML = docLinkHtml;\n",
       "          element.appendChild(docLink);\n",
       "        }\n",
       "      </script>\n",
       "    </div>\n",
       "  </div>\n",
       "  "
      ],
      "text/plain": [
       "   KTOSL_A19  KTOSL_B06  KTOSL_B12  KTOSL_B83  KTOSL_C1  KTOSL_C2  KTOSL_C3  \\\n",
       "0          0          0          0          0         0         0         0   \n",
       "1          0          0          0          0         0         0         0   \n",
       "2          0          0          0          0         0         1         0   \n",
       "3          0          0          0          0         0         0         0   \n",
       "4          0          0          0          0         1         0         0   \n",
       "\n",
       "   KTOSL_C39  KTOSL_C4  KTOSL_C5  ...  HKONT_W03  HKONT_W12  HKONT_W62  \\\n",
       "0          0         0         0  ...          0          0          0   \n",
       "1          0         0         0  ...          0          0          0   \n",
       "2          0         0         0  ...          0          0          0   \n",
       "3          0         0         0  ...          0          0          0   \n",
       "4          0         0         0  ...          0          0          0   \n",
       "\n",
       "   HKONT_X53  HKONT_Y03  HKONT_Y23  HKONT_Z01  HKONT_Z02     DMBTR     WRBTR  \n",
       "0          0          0          0          0          0  0.666635  0.000000  \n",
       "1          0          0          0          0          0  0.622241  0.838315  \n",
       "2          0          0          0          0          0  0.737149  0.913897  \n",
       "3          0          0          0          0          0  0.796386  0.775564  \n",
       "4          0          0          0          0          0  0.734257  0.645617  \n",
       "\n",
       "[5 rows x 384 columns]"
      ]
     },
     "execution_count": 31,
     "metadata": {},
     "output_type": "execute_result"
    }
   ],
   "source": [
    "df = pd.read_csv('/content/drive/MyDrive/Diploma_Polina/precessed_data.csv') # загружаем обработанный датасет\n",
    "df.head()"
   ]
  },
  {
   "cell_type": "code",
   "execution_count": 34,
   "metadata": {
    "colab": {
     "base_uri": "https://localhost:8080/"
    },
    "id": "RVO4kfsgtYv0",
    "outputId": "09e22204-a097-487d-c9d0-bf85aff49921"
   },
   "outputs": [
    {
     "data": {
      "text/plain": [
       "384"
      ]
     },
     "execution_count": 34,
     "metadata": {},
     "output_type": "execute_result"
    }
   ],
   "source": [
    "count_features = df.shape[1] # количество нейронов на входе и выходе всего автоэнкодера\n",
    "count_features"
   ]
  },
  {
   "cell_type": "code",
   "execution_count": 32,
   "metadata": {
    "colab": {
     "base_uri": "https://localhost:8080/"
    },
    "id": "SOhGAYYYl2n7",
    "outputId": "d5948003-bc35-4b28-8b86-3918d3f4e53a"
   },
   "outputs": [
    {
     "data": {
      "text/plain": [
       "0         regular\n",
       "1         regular\n",
       "2         regular\n",
       "3         regular\n",
       "4         regular\n",
       "           ...   \n",
       "533004    regular\n",
       "533005    regular\n",
       "533006    regular\n",
       "533007    regular\n",
       "533008    regular\n",
       "Name: label, Length: 533009, dtype: object"
      ]
     },
     "execution_count": 32,
     "metadata": {},
     "output_type": "execute_result"
    }
   ],
   "source": [
    "url = 'https://raw.githubusercontent.com/GitiHubi/deepAI/master/data/fraud_dataset_v2.csv'\n",
    "ori_dataset = pd.read_csv(url)\n",
    "label = ori_dataset.pop('label') # загружаем лейблы\n",
    "label"
   ]
  },
  {
   "cell_type": "code",
   "execution_count": 35,
   "metadata": {
    "id": "-7ZCO2lU82-g"
   },
   "outputs": [],
   "source": [
    "# implementation of the encoder network\n",
    "class encoder(nn.Module):\n",
    "    \"\"\"\n",
    "    Так определяется подсеть кодировщика на рисунке - это энкодер.\n",
    "    в методе __init__ определяем блоки сети\n",
    "    в методе forward опряделяется проход во время обучения и инфреренса (использования потом) сети.\n",
    "    \"\"\"\n",
    "    def __init__(self, in_shape: int, prob_dropout: float = 0.0):\n",
    "        # in_shape: входная размерность фич, по факту это количество атрибутов полей в датасете\n",
    "        # prob_dropout: параметр для функции dropout\n",
    "        super(encoder, self).__init__()\n",
    "\n",
    "        # specify layer 1 - in 384, out 512\n",
    "        self.encoder_L1 = nn.Linear(in_features=in_shape, out_features=512, bias=True) # add linearity \n",
    "        nn.init.xavier_uniform_(self.encoder_L1.weight) # init weights according to [2]\n",
    "        self.encoder_R1 = nn.LeakyReLU(negative_slope=0.4, inplace=True) # add non-linearity according to [3]\n",
    "\n",
    "        # specify layer 2 - in 512, out 256\n",
    "        self.encoder_L2 = nn.Linear(512, 256, bias=True)\n",
    "        nn.init.xavier_uniform_(self.encoder_L2.weight)\n",
    "        self.encoder_R2 = nn.LeakyReLU(negative_slope=0.4, inplace=True)\n",
    "\n",
    "        # specify layer 3 - in 256, out 128\n",
    "        self.encoder_L3 = nn.Linear(256, 128, bias=True)\n",
    "        nn.init.xavier_uniform_(self.encoder_L3.weight)\n",
    "        self.encoder_R3 = nn.LeakyReLU(negative_slope=0.4, inplace=True)\n",
    "\n",
    "        # specify layer 4 - in 128, out 64\n",
    "        self.encoder_L4 = nn.Linear(128, 64, bias=True)\n",
    "        nn.init.xavier_uniform_(self.encoder_L4.weight)\n",
    "        self.encoder_R4 = nn.LeakyReLU(negative_slope=0.4, inplace=True)\n",
    "\n",
    "        # specify layer 5 - in 64, out 32\n",
    "        self.encoder_L5 = nn.Linear(64, 32, bias=True)\n",
    "        nn.init.xavier_uniform_(self.encoder_L5.weight)\n",
    "        self.encoder_R5 = nn.LeakyReLU(negative_slope=0.4, inplace=True)\n",
    "\n",
    "        # specify layer 6 - in 32, out 16\n",
    "        self.encoder_L6 = nn.Linear(32, 16, bias=True)\n",
    "        nn.init.xavier_uniform_(self.encoder_L6.weight)\n",
    "        self.encoder_R6 = nn.LeakyReLU(negative_slope=0.4, inplace=True)\n",
    "\n",
    "        # specify layer 7 - in 16, out 8\n",
    "        self.encoder_L7 = nn.Linear(16, 8, bias=True)\n",
    "        nn.init.xavier_uniform_(self.encoder_L7.weight)\n",
    "        self.encoder_R7 = nn.LeakyReLU(negative_slope=0.4, inplace=True)\n",
    "\n",
    "        # specify layer 8 - in 8, out 4\n",
    "        self.encoder_L8 = nn.Linear(8, 4, bias=True)\n",
    "        nn.init.xavier_uniform_(self.encoder_L8.weight)\n",
    "        self.encoder_R8 = nn.LeakyReLU(negative_slope=0.4, inplace=True)\n",
    "\n",
    "        # specify layer 9 - in 4, out 3\n",
    "        self.encoder_L9 = nn.Linear(4, 3, bias=True)\n",
    "        nn.init.xavier_uniform_(self.encoder_L9.weight)\n",
    "        self.encoder_R9 = nn.LeakyReLU(negative_slope=0.4, inplace=True)\n",
    "\n",
    "        # init dropout layer with probability p\n",
    "        self.dropout = nn.Dropout(p=prob_dropout, inplace=True)\n",
    "        \n",
    "    def forward(self, x):\n",
    "\n",
    "        # define forward pass through the network\n",
    "        x = self.encoder_R1(self.dropout(self.encoder_L1(x)))\n",
    "        x = self.encoder_R2(self.dropout(self.encoder_L2(x)))\n",
    "        x = self.encoder_R3(self.dropout(self.encoder_L3(x)))\n",
    "        x = self.encoder_R4(self.dropout(self.encoder_L4(x)))\n",
    "        x = self.encoder_R5(self.dropout(self.encoder_L5(x)))\n",
    "        x = self.encoder_R6(self.dropout(self.encoder_L6(x)))\n",
    "        x = self.encoder_R7(self.dropout(self.encoder_L7(x)))\n",
    "        x = self.encoder_R8(self.dropout(self.encoder_L8(x)))\n",
    "        x = self.encoder_R9(self.encoder_L9(x)) # don't apply dropout to the AE bottleneck\n",
    "\n",
    "        return x"
   ]
  },
  {
   "cell_type": "code",
   "execution_count": 36,
   "metadata": {
    "id": "DW_mR7Fg82-g"
   },
   "outputs": [],
   "source": [
    "# init training network classes / architectures\n",
    "encoder_train = encoder(in_shape=count_features) # создание экземпляра кодировщика (энкодера)\n",
    "\n",
    "# push to cuda if cudnn is available\n",
    "if torch.cuda.is_available(): # проверка на доступность видеокарты\n",
    "    device = 'cuda:0' # у нас только одна видеокарта (их нумерация начинается с нуля)\n",
    "    encoder_train.to(device=device) # т.к. это экземпляр кодировщика, кидаем на видеокарту"
   ]
  },
  {
   "cell_type": "markdown",
   "metadata": {
    "id": "zUXSd5ffwEm2"
   },
   "source": [
    "После инициализации модели можем визуализировать структуру модели и просмотреть реализованную сетевую архитектуру:"
   ]
  },
  {
   "cell_type": "code",
   "execution_count": 37,
   "metadata": {
    "colab": {
     "base_uri": "https://localhost:8080/"
    },
    "id": "qaMhU7cI82-h",
    "outputId": "f9581848-e909-4f03-8300-434e79cb43ee"
   },
   "outputs": [
    {
     "name": "stdout",
     "output_type": "stream",
     "text": [
      "[LOG 20220508-16:32:12] encoder architecture:\n",
      "\n",
      "encoder(\n",
      "  (encoder_L1): Linear(in_features=384, out_features=512, bias=True)\n",
      "  (encoder_R1): LeakyReLU(negative_slope=0.4, inplace=True)\n",
      "  (encoder_L2): Linear(in_features=512, out_features=256, bias=True)\n",
      "  (encoder_R2): LeakyReLU(negative_slope=0.4, inplace=True)\n",
      "  (encoder_L3): Linear(in_features=256, out_features=128, bias=True)\n",
      "  (encoder_R3): LeakyReLU(negative_slope=0.4, inplace=True)\n",
      "  (encoder_L4): Linear(in_features=128, out_features=64, bias=True)\n",
      "  (encoder_R4): LeakyReLU(negative_slope=0.4, inplace=True)\n",
      "  (encoder_L5): Linear(in_features=64, out_features=32, bias=True)\n",
      "  (encoder_R5): LeakyReLU(negative_slope=0.4, inplace=True)\n",
      "  (encoder_L6): Linear(in_features=32, out_features=16, bias=True)\n",
      "  (encoder_R6): LeakyReLU(negative_slope=0.4, inplace=True)\n",
      "  (encoder_L7): Linear(in_features=16, out_features=8, bias=True)\n",
      "  (encoder_R7): LeakyReLU(negative_slope=0.4, inplace=True)\n",
      "  (encoder_L8): Linear(in_features=8, out_features=4, bias=True)\n",
      "  (encoder_R8): LeakyReLU(negative_slope=0.4, inplace=True)\n",
      "  (encoder_L9): Linear(in_features=4, out_features=3, bias=True)\n",
      "  (encoder_R9): LeakyReLU(negative_slope=0.4, inplace=True)\n",
      "  (dropout): Dropout(p=0.0, inplace=True)\n",
      ")\n",
      "\n"
     ]
    }
   ],
   "source": [
    "# print the initialized architectures\n",
    "now = datetime.utcnow().strftime(\"%Y%m%d-%H:%M:%S\")\n",
    "print('[LOG {}] encoder architecture:\\n\\n{}\\n'.format(now, encoder_train))"
   ]
  },
  {
   "cell_type": "markdown",
   "metadata": {
    "id": "Jyst2ZfjwMhW"
   },
   "source": [
    "Завершим нейросеть, реализовав соответствующую сеть декодера. Декодер также состоит из девяти полносвязных слоев. Кроме того, сеть декодера предназначена для симметричного отражения архитектуры сети энкодера посредством послойной инверсии «3-4-8-16-32-64-128-256-384» уровней сети энкодера."
   ]
  },
  {
   "cell_type": "code",
   "execution_count": 38,
   "metadata": {
    "id": "KjBxcIjk82-h"
   },
   "outputs": [],
   "source": [
    "# implementation of the decoder network\n",
    "class decoder(nn.Module):\n",
    "    # описание аналогично классу encoder\n",
    "    def __init__(self, out_shape: int, prob_dropout: float = 0.0):\n",
    "        # out_shape: входная размерность фич, по факту это количество атрибутов полей в датасете\n",
    "        # prob_dropout: параметр для фукции dropout\n",
    "\n",
    "        super(decoder, self).__init__()\n",
    "\n",
    "        # specify layer 1 - in 3, out 4\n",
    "        self.decoder_L1 = nn.Linear(in_features=3, out_features=4, bias=True) # add linearity \n",
    "        nn.init.xavier_uniform_(self.decoder_L1.weight)  # init weights according to [2]\n",
    "        self.decoder_R1 = nn.LeakyReLU(negative_slope=0.4, inplace=True) # add non-linearity according to [3]\n",
    "\n",
    "        # specify layer 2 - in 4, out 8\n",
    "        self.decoder_L2 = nn.Linear(4, 8, bias=True)\n",
    "        nn.init.xavier_uniform_(self.decoder_L2.weight)\n",
    "        self.decoder_R2 = nn.LeakyReLU(negative_slope=0.4, inplace=True)\n",
    "\n",
    "        # specify layer 3 - in 8, out 16\n",
    "        self.decoder_L3 = nn.Linear(8, 16, bias=True)\n",
    "        nn.init.xavier_uniform_(self.decoder_L3.weight)\n",
    "        self.decoder_R3 = nn.LeakyReLU(negative_slope=0.4, inplace=True)\n",
    "\n",
    "        # specify layer 4 - in 16, out 32\n",
    "        self.decoder_L4 = nn.Linear(16, 32, bias=True)\n",
    "        nn.init.xavier_uniform_(self.decoder_L4.weight)\n",
    "        self.decoder_R4 = nn.LeakyReLU(negative_slope=0.4, inplace=True)\n",
    "\n",
    "        # specify layer 5 - in 32, out 64\n",
    "        self.decoder_L5 = nn.Linear(32, 64, bias=True)\n",
    "        nn.init.xavier_uniform_(self.decoder_L5.weight)\n",
    "        self.decoder_R5 = nn.LeakyReLU(negative_slope=0.4, inplace=True)\n",
    "\n",
    "        # specify layer 6 - in 64, out 128\n",
    "        self.decoder_L6 = nn.Linear(64, 128, bias=True)\n",
    "        nn.init.xavier_uniform_(self.decoder_L6.weight)\n",
    "        self.decoder_R6 = nn.LeakyReLU(negative_slope=0.4, inplace=True)\n",
    "        \n",
    "        # specify layer 7 - in 128, out 256\n",
    "        self.decoder_L7 = nn.Linear(128, 256, bias=True)\n",
    "        nn.init.xavier_uniform_(self.decoder_L7.weight)\n",
    "        self.decoder_R7 = nn.LeakyReLU(negative_slope=0.4, inplace=True)\n",
    "\n",
    "        # specify layer 8 - in 256, out 512\n",
    "        self.decoder_L8 = nn.Linear(256, 512, bias=True)\n",
    "        nn.init.xavier_uniform_(self.decoder_L8.weight)\n",
    "        self.decoder_R8 = nn.LeakyReLU(negative_slope=0.4, inplace=True)\n",
    "\n",
    "        # specify layer 9 - in 512, out 384\n",
    "        self.decoder_L9 = nn.Linear(in_features=512, out_features=out_shape, bias=True)\n",
    "        nn.init.xavier_uniform_(self.decoder_L9.weight)\n",
    "        self.decoder_R9 = nn.LeakyReLU(negative_slope=0.4, inplace=True)\n",
    "\n",
    "        # init dropout layer with probability p\n",
    "        self.dropout = nn.Dropout(p=0.0, inplace=True)\n",
    "\n",
    "    def forward(self, x):\n",
    "\n",
    "        # define forward pass through the network\n",
    "        x = self.decoder_R1(self.dropout(self.decoder_L1(x)))\n",
    "        x = self.decoder_R2(self.dropout(self.decoder_L2(x)))\n",
    "        x = self.decoder_R3(self.dropout(self.decoder_L3(x)))\n",
    "        x = self.decoder_R4(self.dropout(self.decoder_L4(x)))\n",
    "        x = self.decoder_R5(self.dropout(self.decoder_L5(x)))\n",
    "        x = self.decoder_R6(self.dropout(self.decoder_L6(x)))\n",
    "        x = self.decoder_R7(self.dropout(self.decoder_L7(x)))\n",
    "        x = self.decoder_R8(self.dropout(self.decoder_L8(x)))\n",
    "        x = self.decoder_R9(self.decoder_L9(x)) # don't apply dropout to the AE output\n",
    "        \n",
    "        return x"
   ]
  },
  {
   "cell_type": "code",
   "execution_count": 39,
   "metadata": {
    "colab": {
     "base_uri": "https://localhost:8080/"
    },
    "id": "eQVBlv9j82-h",
    "outputId": "f9d739e2-7741-4d59-9615-2b4d05dc6199"
   },
   "outputs": [
    {
     "name": "stdout",
     "output_type": "stream",
     "text": [
      "[LOG 20220508-16:32:33] decoder architecture:\n",
      "\n",
      "decoder(\n",
      "  (decoder_L1): Linear(in_features=3, out_features=4, bias=True)\n",
      "  (decoder_R1): LeakyReLU(negative_slope=0.4, inplace=True)\n",
      "  (decoder_L2): Linear(in_features=4, out_features=8, bias=True)\n",
      "  (decoder_R2): LeakyReLU(negative_slope=0.4, inplace=True)\n",
      "  (decoder_L3): Linear(in_features=8, out_features=16, bias=True)\n",
      "  (decoder_R3): LeakyReLU(negative_slope=0.4, inplace=True)\n",
      "  (decoder_L4): Linear(in_features=16, out_features=32, bias=True)\n",
      "  (decoder_R4): LeakyReLU(negative_slope=0.4, inplace=True)\n",
      "  (decoder_L5): Linear(in_features=32, out_features=64, bias=True)\n",
      "  (decoder_R5): LeakyReLU(negative_slope=0.4, inplace=True)\n",
      "  (decoder_L6): Linear(in_features=64, out_features=128, bias=True)\n",
      "  (decoder_R6): LeakyReLU(negative_slope=0.4, inplace=True)\n",
      "  (decoder_L7): Linear(in_features=128, out_features=256, bias=True)\n",
      "  (decoder_R7): LeakyReLU(negative_slope=0.4, inplace=True)\n",
      "  (decoder_L8): Linear(in_features=256, out_features=512, bias=True)\n",
      "  (decoder_R8): LeakyReLU(negative_slope=0.4, inplace=True)\n",
      "  (decoder_L9): Linear(in_features=512, out_features=384, bias=True)\n",
      "  (decoder_R9): LeakyReLU(negative_slope=0.4, inplace=True)\n",
      "  (dropout): Dropout(p=0.0, inplace=True)\n",
      ")\n",
      "\n"
     ]
    }
   ],
   "source": [
    "# init training network classes / architectures\n",
    "decoder_train = decoder(out_shape=count_features) # создание экземпляра декодера\n",
    "\n",
    "# push to cuda if cudnn is available\n",
    "if torch.cuda.is_available(): # проверка на доступность видеокарты\n",
    "    device = 'cuda:0' # у нас только одна видеокарта (их нумерация начинается с нуля)\n",
    "    decoder_train.to(device=device) # т.к. это экземпляр декодера, кидаем на видеокарту\n",
    "\n",
    "# print the initialized architectures\n",
    "now = datetime.utcnow().strftime(\"%Y%m%d-%H:%M:%S\")\n",
    "print('[LOG {}] decoder architecture:\\n\\n{}\\n'.format(now, decoder_train))"
   ]
  },
  {
   "cell_type": "markdown",
   "metadata": {
    "id": "T3hs9-uv82-i"
   },
   "source": [
    "### 4.3 Функция потерь"
   ]
  },
  {
   "cell_type": "markdown",
   "metadata": {
    "id": "WXETgGjRxCnM"
   },
   "source": [
    "Теперь, когда мы разработали сеть, ее можно обучить. Перед началом обучения необходимо определить соответствующую функцию потерь. Мы стремимся обучить нашу модель исходя из набора параметров модели кодировщика-декодера **θ**, которые минимизируют несходство данной финансовой транзакции **xi** и ее реконструкции **x^i=gθ(fθ(xi))** настолько точно, насколько это возможно.\n",
    "\n",
    "Таким образом, цель обучения состоит в том, чтобы изучить набор оптимальных общих параметров модели кодировщика-декодера **θ**, которые оптимизируют **argminθ∥X−gθ(fθ(X))∥** по всем транзакциям или, более конкретно, по записям журнала **X**. Для достижения этой цели оптимизации обычно минимизируют функцию потерь **Lθ** как часть обучения сети. Мы используем потерю, определяемую следующим образом:"
   ]
  },
  {
   "cell_type": "markdown",
   "metadata": {
    "id": "7WNrYn1xxcCL"
   },
   "source": [
    "<center> $\\mathcal{L^{BCE}_{\\theta}}(x^{i};\\hat{x}^{i}) = \\frac{1}{n}\\sum_{i=1}^{n}\\sum_{j=1}^{k} x^{i}_{j} ln(\\hat{x}^{i}_{j}) + (1-x^{i}_{j}) ln(1-\\hat{x}^{i}_{j})$, </center>"
   ]
  },
  {
   "cell_type": "markdown",
   "metadata": {
    "id": "NpAO_CZ0xdZd"
   },
   "source": [
    "для набора n - записей журнала xi , i=1,...,n и их соответствующих реконструкций x^i и всех атрибутов записей журнала j=1,...,k ."
   ]
  },
  {
   "cell_type": "markdown",
   "metadata": {
    "id": "1NtVHJi6xnHT"
   },
   "source": [
    "Реализация функции потери уже доступна в PyTorch. Его можно создать «готовым» путем выполнения следующей команды PyTorch:"
   ]
  },
  {
   "cell_type": "code",
   "execution_count": 40,
   "metadata": {
    "id": "gAWapQEg82-i"
   },
   "outputs": [],
   "source": [
    "# define the optimization criterion / loss function\n",
    "loss_function = nn.BCEWithLogitsLoss(reduction='mean') # создаем функцию потерь, благодаря которой наша сеть будет обучаться"
   ]
  },
  {
   "cell_type": "markdown",
   "metadata": {
    "id": "eZaRRYl-x5Hq"
   },
   "source": [
    "(Примечание. Включение уменьшения параметра указывает, что потери усредняются по всем наблюдениям для каждой мини-партии).\n",
    "\n",
    "На основе величины потерь определенного мини-пакета PyTorch автоматически вычисляет градиенты. На основе градиента библиотека также помогает нам в оптимизации и обновлении параметров сети θ.\n",
    "\n",
    "Мы будем использовать оптимизацию Адама, предложенную в источнике [4], и установим скорость обучения l=0,001. На каждом шаге мини-пакета оптимизатор будет обновлять значения параметров кодера и декодера θ в соответствии со степенью ошибки реконструкции."
   ]
  },
  {
   "cell_type": "code",
   "execution_count": 41,
   "metadata": {
    "id": "O_iHKSIr82-k"
   },
   "outputs": [],
   "source": [
    "# define learning rate and optimization strategy\n",
    "learning_rate = 1e-3 # шаг обучения - величина, на которую умножаются градиенты (производные функции потерь, чем больше тем быстрее обучимся, но при таком раскладе \n",
    "# высока вероятность упасть не в тот локальный минимум. Если меньше, то высока вероятность недобучиться)\n",
    "encoder_optimizer = torch.optim.Adam(encoder_train.parameters(), lr=learning_rate) # оптимизатор, который изменяет \"веса\" нейронной сети\n",
    "decoder_optimizer = torch.optim.Adam(decoder_train.parameters(), lr=learning_rate) # оптимизатор, который изменяет \"веса\" нейронной сети"
   ]
  },
  {
   "cell_type": "markdown",
   "metadata": {
    "id": "4q1N-cxeyyHs"
   },
   "source": [
    "Теперь, когда мы успешно внедрили и определили три строительных блока автокодировщика,рассмотрим определения энмодели кодера и декодера, а также потерь. "
   ]
  },
  {
   "cell_type": "markdown",
   "metadata": {
    "id": "VA2oUYei82-l"
   },
   "source": [
    "## 5. Тренировка модели автоэнкодера"
   ]
  },
  {
   "cell_type": "markdown",
   "metadata": {
    "id": "77v5VwRfy64L"
   },
   "source": [
    "В этом разделе обучим нашу глубокую нейронную сеть автоэнкодера (реализованную в разделе 4) с использованием закодированных транзакционных данных (созданных в разделе 3). В частности, мы подробно рассмотрим отдельные этапы обучения, а также способы отслеживания прогресса обучения."
   ]
  },
  {
   "cell_type": "markdown",
   "metadata": {
    "id": "Hkg0PRR282-l"
   },
   "source": [
    "### 5.1 Подгодотка обучения сети"
   ]
  },
  {
   "cell_type": "markdown",
   "metadata": {
    "id": "2tZ5BY2uzIPh"
   },
   "source": [
    "Мы предварительно обработали набор данных, реализовали автокодировщик и определили ошибку реконструкции. Давайте теперь начнем обучать соответствующую модель для 5 эпох и размера мини-партии из 128 записей в журнале на партию. Это означает, что весь набор данных будет передан в нейросеть 5 раз порциями по 128 записей в журнале, что даст 4165 мини-пакетов (533 009 записей в журнале / 128 записей в мини-пакете) за эпоху."
   ]
  },
  {
   "cell_type": "code",
   "execution_count": 42,
   "metadata": {
    "id": "yfjQr9dk82-l"
   },
   "outputs": [],
   "source": [
    "# specify training parameters\n",
    "num_epochs = 5 # количество эпох обучения сети\n",
    "mini_batch_size = 128 # количество экземпляров данных, которые будут входить в один батч. Чем больше, тем лучше, но может выпасть за пределы памяти видеокарты, поэтому такой размер"
   ]
  },
  {
   "cell_type": "markdown",
   "metadata": {
    "id": "9sYW3pEAzjWN"
   },
   "source": [
    "На этапе обучения будем извлекать отдельные мини-пакеты всей совокупности записей журнала. Для этого мы будем использовать DataLoader PyTorch, который предоставляет итераторы с одним или несколькими процессами для заданного набора данных для загрузки одного мини-пакета за раз. При включении shuffle=True данные будут перетасовываться в каждую эпоху перед их подачей в сеть."
   ]
  },
  {
   "cell_type": "code",
   "execution_count": 43,
   "metadata": {
    "id": "KeyeHN8B82-l"
   },
   "outputs": [],
   "source": [
    "# convert pre-processed data to pytorch tensor\n",
    "torch_dataset = torch.from_numpy(df.values).float()\n",
    "\n",
    "# convert to pytorch tensor - none cuda enabled\n",
    "dataloader = DataLoader(torch_dataset, batch_size=mini_batch_size, shuffle=True, num_workers=0)\n",
    "# note: we set num_workers to zero to retrieve deterministic results\n",
    "\n",
    "# determine if CUDA is available at compute node\n",
    "if torch.cuda.is_available():\n",
    "    dataloader = DataLoader(torch_dataset.to(device=device), batch_size=mini_batch_size, shuffle=True)"
   ]
  },
  {
   "cell_type": "markdown",
   "metadata": {
    "id": "zJ1BX9hj82-l"
   },
   "source": [
    "### 5.2 Запуск обучения сети"
   ]
  },
  {
   "cell_type": "markdown",
   "metadata": {
    "id": "Ip85-_583uCO"
   },
   "source": [
    "Наконец, приступим к обучению модели. Процедура обучения каждой мини-партии выполняется следующим образом:\n",
    ">1. сделать прямой проход через часть энкодера-декодера, \n",
    ">2. вычислить потери восстановления по функции ошибки (формулу см. выше), \n",
    ">3.сделать обратный проход через часть энкодера-декодера, \n",
    ">4. и обновить параметры сетей кодировщика fθ(⋅) и декодера gθ(⋅).\n",
    "\n",
    "Во время обучения нашей модели, будем следить за тем, уменьшаются ли потери по мере продвижения обучения. По этому мы получаем и оцениваем эффективность реконструкции всего набора данных после каждой эпохи обучения. Основываясь на этой оценке, мы можем сделать вывод о ходе обучения и о том, сходятся ли потери (указывая на то, что модель может больше не улучшаться).\n",
    "\n",
    "Особое внимание следует уделить следующим элементам приведенного ниже кода обучения сети:\n",
    "\n",
    "> - reconstruction_loss.backward() вычисляет градиенты на основе величины потерь при реконструкции, \n",
    "> - encoder_optimizer.step() и decoder_optimizer.step() обновляют параметры сети на основе градиента.\n",
    "\n",
    "\n",
    "Причиной переключения на ЦП на этапе оценки является размер всего набора данных. Мы стремимся вычислить ошибку реконструкции для всего набора данных, который в большинстве случаев не помещается в память графического процессора.\n",
    "\n",
    "Кроме того, после каждой эпохи обучения мы хотим сохранить контрольную точку как для фактической модели энкодера, так и для модели декодера. Сохраненные контрольные точки модели содержат моментальный снимок значений параметров обученной модели по завершении эпохи обучения. В целом рекомендуется регулярно сохранять контрольные точки во время обучения. В случае сбоя системы во время обучения можно продолжить с последней контрольной точки, а не начинать с нуля.\n",
    "\n",
    "> - torch.save(): сохраняет контрольную точку фактических значений параметров модели кодировщика и декодера на диск."
   ]
  },
  {
   "cell_type": "code",
   "execution_count": 44,
   "metadata": {
    "colab": {
     "base_uri": "https://localhost:8080/"
    },
    "id": "cmCDBGm282-m",
    "outputId": "ecac6125-4b43-404b-826c-00f3e03e9ca1"
   },
   "outputs": [
    {
     "name": "stdout",
     "output_type": "stream",
     "text": [
      "[LOG 20220508-16:43:36] training status, epoch: [0001/0005], batch: 1000, loss: 0.0145, mode: GPU, time required: 0:00:09.272392\n",
      "[LOG 20220508-16:43:46] training status, epoch: [0001/0005], batch: 2000, loss: 0.0072, mode: GPU, time required: 0:00:09.088087\n",
      "[LOG 20220508-16:43:55] training status, epoch: [0001/0005], batch: 3000, loss: 0.007, mode: GPU, time required: 0:00:09.079733\n",
      "[LOG 20220508-16:44:04] training status, epoch: [0001/0005], batch: 4000, loss: 0.005, mode: GPU, time required: 0:00:09.066713\n",
      "[LOG 20220508-16:44:05] training status, epoch: [0001/0005], loss: 0.0120919088\n",
      "[LOG 20220508-16:44:15] training status, epoch: [0002/0005], batch: 1000, loss: 0.0043, mode: GPU, time required: 0:00:09.114986\n",
      "[LOG 20220508-16:44:24] training status, epoch: [0002/0005], batch: 2000, loss: 0.0039, mode: GPU, time required: 0:00:09.090032\n",
      "[LOG 20220508-16:44:33] training status, epoch: [0002/0005], batch: 3000, loss: 0.004, mode: GPU, time required: 0:00:09.026162\n",
      "[LOG 20220508-16:44:42] training status, epoch: [0002/0005], batch: 4000, loss: 0.0039, mode: GPU, time required: 0:00:09.076946\n",
      "[LOG 20220508-16:44:44] training status, epoch: [0002/0005], loss: 0.0047505642\n",
      "[LOG 20220508-16:44:54] training status, epoch: [0003/0005], batch: 1000, loss: 0.0037, mode: GPU, time required: 0:00:09.305886\n",
      "[LOG 20220508-16:45:03] training status, epoch: [0003/0005], batch: 2000, loss: 0.0067, mode: GPU, time required: 0:00:09.256593\n",
      "[LOG 20220508-16:45:12] training status, epoch: [0003/0005], batch: 3000, loss: 0.0034, mode: GPU, time required: 0:00:09.227422\n",
      "[LOG 20220508-16:45:22] training status, epoch: [0003/0005], batch: 4000, loss: 0.0034, mode: GPU, time required: 0:00:09.170697\n",
      "[LOG 20220508-16:45:23] training status, epoch: [0003/0005], loss: 0.0041131092\n",
      "[LOG 20220508-16:45:33] training status, epoch: [0004/0005], batch: 1000, loss: 0.0032, mode: GPU, time required: 0:00:09.170523\n",
      "[LOG 20220508-16:45:42] training status, epoch: [0004/0005], batch: 2000, loss: 0.003, mode: GPU, time required: 0:00:09.105583\n",
      "[LOG 20220508-16:45:51] training status, epoch: [0004/0005], batch: 3000, loss: 0.0031, mode: GPU, time required: 0:00:09.072707\n",
      "[LOG 20220508-16:46:00] training status, epoch: [0004/0005], batch: 4000, loss: 0.0032, mode: GPU, time required: 0:00:09.130761\n",
      "[LOG 20220508-16:46:02] training status, epoch: [0004/0005], loss: 0.0036464586\n",
      "[LOG 20220508-16:46:11] training status, epoch: [0005/0005], batch: 1000, loss: 0.0029, mode: GPU, time required: 0:00:09.163894\n",
      "[LOG 20220508-16:46:20] training status, epoch: [0005/0005], batch: 2000, loss: 0.0028, mode: GPU, time required: 0:00:09.166059\n",
      "[LOG 20220508-16:46:30] training status, epoch: [0005/0005], batch: 3000, loss: 0.003, mode: GPU, time required: 0:00:09.050579\n",
      "[LOG 20220508-16:46:39] training status, epoch: [0005/0005], batch: 4000, loss: 0.0028, mode: GPU, time required: 0:00:09.198870\n",
      "[LOG 20220508-16:46:40] training status, epoch: [0005/0005], loss: 0.0032935654\n"
     ]
    }
   ],
   "source": [
    "# init collection of epoch losses\n",
    "epoch_losses = [] # список будет содержать историю функции потерь по эпохам\n",
    "\n",
    "# convert encoded transactional data to torch Variable\n",
    "data = autograd.Variable(torch_dataset) # преобразовать закодированные транзакционные данные в переменную torch Variable\n",
    "\n",
    "# train autoencoder model\n",
    "for epoch in range(num_epochs):\n",
    "\n",
    "    # init collection of epoch losses\n",
    "    mini_batch_losses = []\n",
    "    \n",
    "    # init mini batch counter\n",
    "    mini_batch_count = 0\n",
    "\n",
    "    # Это сделано выше    \n",
    "    # # determine if CUDA is available at compute node\n",
    "    # if(torch.backends.cudnn.version() != None) and (USE_CUDA == True):\n",
    "        \n",
    "    #     # set networks / models in GPU mode\n",
    "    #     encoder_train.cuda()\n",
    "    #     decoder_train.cuda()\n",
    "\n",
    "    # set networks in training mode (apply dropout when needed)\n",
    "    encoder_train.train() # включаем модуль для тренировки\n",
    "    decoder_train.train()\n",
    "\n",
    "    # start timer\n",
    "    start_time = datetime.now()\n",
    "        \n",
    "    # iterate over all mini-batches\n",
    "    for mini_batch_data in dataloader:\n",
    "\n",
    "        # increase mini batch counter\n",
    "        mini_batch_count += 1\n",
    "\n",
    "        # convert mini batch to torch variable\n",
    "        mini_batch_torch = autograd.Variable(mini_batch_data)\n",
    "\n",
    "        # =================== (1) forward pass ===================================\n",
    "\n",
    "        # run forward pass (Прогоняем сначала через кодировщик, потом выход кодировщика черех декодер)\n",
    "        z_representation = encoder_train(mini_batch_torch) # encode mini-batch data\n",
    "        mini_batch_reconstruction = decoder_train(z_representation) # decode mini-batch data\n",
    "        \n",
    "        # =================== (2) compute reconstruction loss ====================\n",
    "\n",
    "        # determine reconstruction loss\n",
    "        reconstruction_loss = loss_function(mini_batch_reconstruction, mini_batch_torch) # считаем функцию ошибки \n",
    "        \n",
    "        # =================== (3) backward pass ==================================\n",
    "\n",
    "        # reset graph gradients\n",
    "        decoder_optimizer.zero_grad() # зануляем градиенты, чтобы накапливать градиенты\n",
    "        encoder_optimizer.zero_grad() # зануляем градиенты, чтобы накапливать градиенты\n",
    "\n",
    "        # run backward pass\n",
    "        reconstruction_loss.backward() # запускаем обратное распространение ошибки для обучения (вычисляем градиенты относительно функции ошибки)\n",
    "        \n",
    "        # =================== (4) update model parameters ========================\n",
    "\n",
    "        # update network parameters\n",
    "        decoder_optimizer.step() # обновляем веса сети\n",
    "        encoder_optimizer.step() # обновляем веса сети\n",
    "\n",
    "        # =================== monitor training progress ==========================\n",
    "        # смотрим как протекает обучение каждые 1000 итерации внутри одной эпохи\n",
    "        # print training progress each 1'000 mini-batches\n",
    "        if mini_batch_count % 1000 == 0:\n",
    "            \n",
    "            # print the training mode: either on GPU or CPU\n",
    "            mode = 'GPU' if torch.cuda.is_available() else 'CPU'\n",
    "            \n",
    "            # print mini batch reconstuction results\n",
    "            now = datetime.utcnow().strftime(\"%Y%m%d-%H:%M:%S\")\n",
    "            end_time = datetime.now() - start_time\n",
    "            print('[LOG {}] training status, epoch: [{:04}/{:04}], batch: {:04}, loss: {}, mode: {}, time required: {}'.format(now, (epoch+1), num_epochs, mini_batch_count, np.round(reconstruction_loss.item(), 4), mode, end_time))\n",
    "\n",
    "            # reset timer\n",
    "            start_time = datetime.now()\n",
    "            \n",
    "        # collect mini-batch loss (Добавляем значение функции потерь в рамках одной эпохи)\n",
    "        mini_batch_losses.extend([np.round(reconstruction_loss.item(), 4)])\n",
    "\n",
    "    # =================== evaluate model performance =============================\n",
    "                                 \n",
    "    # collect mean training epoch loss (Усредняем значения функции потерь для одной эпохи)\n",
    "    epoch_losses.extend([np.mean(mini_batch_losses)])\n",
    "    \n",
    "    # print training epoch results\n",
    "    now = datetime.utcnow().strftime(\"%Y%m%d-%H:%M:%S\")\n",
    "    print('[LOG {}] training status, epoch: [{:04}/{:04}], loss: {:.10f}'.format(now, (epoch+1), num_epochs, np.mean(mini_batch_losses)))\n",
    "\n",
    "    # =================== save model snapshot to disk ============================\n",
    "    \n",
    "    # save trained encoder model file to disk\n",
    "    encoder_model_name = f\"/content/drive/MyDrive/Diploma_Polina/model_weights/encoder/ep_{epoch+1}_encoder_model.pth\"\n",
    "    torch.save(encoder_train.state_dict(), encoder_model_name) # сохраняем веса модели\n",
    "\n",
    "    # save trained decoder model file to disk\n",
    "    decoder_model_name = f\"/content/drive/MyDrive/Diploma_Polina/model_weights/decoder/ep_{epoch+1}_decoder_model.pth\"\n",
    "    torch.save(decoder_train.state_dict(), decoder_model_name)"
   ]
  },
  {
   "cell_type": "markdown",
   "metadata": {
    "id": "bQVeiYDF8tKF"
   },
   "source": [
    "Оценим, действительно ли функция потерь уменьшается по мере обучения модели. Для этого визуализируем величины потерь, полученных за эпоху обучения:"
   ]
  },
  {
   "cell_type": "code",
   "execution_count": 45,
   "metadata": {
    "colab": {
     "base_uri": "https://localhost:8080/",
     "height": 312
    },
    "id": "xS2DSlNZ82-m",
    "outputId": "309f98ed-3481-4724-fef6-8665f78c8ca4"
   },
   "outputs": [
    {
     "data": {
      "text/plain": [
       "Text(0.5, 1.0, 'AENN training performance')"
      ]
     },
     "execution_count": 45,
     "metadata": {},
     "output_type": "execute_result"
    },
    {
     "data": {
      "image/png": "[encoded data removed]",
      "text/plain": [
       "<Figure size 432x288 with 1 Axes>"
      ]
     },
     "metadata": {
      "needs_background": "light"
     },
     "output_type": "display_data"
    }
   ],
   "source": [
    "# plot the training progress\n",
    "plt.plot(range(0, len(epoch_losses)), epoch_losses)\n",
    "plt.xlabel('[training epoch]')\n",
    "plt.xlim([0, len(epoch_losses)])\n",
    "plt.ylabel('[reconstruction-error]')\n",
    "#plt.ylim([0.0, 1.0])\n",
    "plt.title('AENN training performance')"
   ]
  },
  {
   "cell_type": "markdown",
   "metadata": {
    "id": "ZSfFNXhg-iHW"
   },
   "source": [
    "После 5 эпох можем наблюдать, что наши потери при реконструкции уже значительно снизились и начинают хорошо сходиться. Это указывает на то, что наша сеть довольно хорошо изучает структуру и атрибуты записей журнала."
   ]
  },
  {
   "cell_type": "markdown",
   "metadata": {
    "id": "vR6Lu5fT-ncd"
   },
   "source": [
    "Но из графика мы также видим, что модель, вероятно, можно было бы обучить еще на пару эпох, поскольку тенденция ошибки реконструкции все еще уменьшается для последних эпох. В целях экономии времени продолжим работу с использованием предварительно обученной модели, уже обученной на 20 эпох."
   ]
  },
  {
   "cell_type": "markdown",
   "metadata": {
    "id": "Vurc36ir82-o"
   },
   "source": [
    "## 6. Оценка нейронной сети автоэнкодера"
   ]
  },
  {
   "cell_type": "markdown",
   "metadata": {
    "id": "s-CAZ5EW_PKZ"
   },
   "source": [
    "Теперь, когда мы обучили модель автокодировщика, рассмотрим, как можно ее использовать для обнаружения аномалий во всей совокупности записей журнала. Сначала загрузим предварительно обученную модель из 10 эпох и оценим ее возможности реконструкции для всего набора данных."
   ]
  },
  {
   "cell_type": "markdown",
   "metadata": {
    "id": "g4PuNlyhkt4r"
   },
   "source": [
    "**Т.к. у авторов автоэнкодера больше мощностей, они обучили модель на 20 эпохах. А как видно из графики функции ошибок по эпохам, она продолжит уменьшение после пяти эпох.**"
   ]
  },
  {
   "cell_type": "code",
   "execution_count": 46,
   "metadata": {
    "colab": {
     "base_uri": "https://localhost:8080/"
    },
    "id": "yrHG7X-J82-o",
    "outputId": "af1e53ca-51d0-4cc1-ed69-d282c913ab30"
   },
   "outputs": [
    {
     "data": {
      "text/plain": [
       "<All keys matched successfully>"
      ]
     },
     "execution_count": 46,
     "metadata": {},
     "output_type": "execute_result"
    }
   ],
   "source": [
    "# restore pretrained model checkpoint (пути до моделей от авторов из репозитория ГИТ)\n",
    "encoder_model_name = 'https://raw.githubusercontent.com/GitiHubi/deepAI/master/models/ep_20_encoder_model.pth'\n",
    "decoder_model_name = 'https://raw.githubusercontent.com/GitiHubi/deepAI/master/models/ep_20_decoder_model.pth'\n",
    "\n",
    "# Read stored model from the remote location (Чтение сохраненной модели из удаленного местоположения, то есть из ГИТ)\n",
    "encoder_bytes = urllib.request.urlopen(encoder_model_name)\n",
    "decoder_bytes = urllib.request.urlopen(decoder_model_name)\n",
    "\n",
    "# Load tensor from io.BytesIO object\n",
    "encoder_buffer = io.BytesIO(encoder_bytes.read()) # загружаем тензоры байтовых объектов\n",
    "decoder_buffer = io.BytesIO(decoder_bytes.read())\n",
    "\n",
    "count_featers = 384\n",
    "\n",
    "# init training network classes / architectures\n",
    "encoder_eval = encoder(count_featers) # инициализируем модель\n",
    "decoder_eval = decoder(count_featers)\n",
    "\n",
    "# load trained models\n",
    "encoder_eval.load_state_dict(torch.load(encoder_buffer)) # загружаем предобученные веса\n",
    "decoder_eval.load_state_dict(torch.load(decoder_buffer))"
   ]
  },
  {
   "cell_type": "markdown",
   "metadata": {
    "id": "hs5TYLJ482-o"
   },
   "source": [
    "### 6.1 Оценка предварительно обученной модели"
   ]
  },
  {
   "cell_type": "markdown",
   "metadata": {
    "id": "FQQoVXOMBg6T"
   },
   "source": [
    "После получения  воспользуемся моделью для реконструкции всего набора данных:"
   ]
  },
  {
   "cell_type": "code",
   "execution_count": 47,
   "metadata": {
    "id": "YsfQrME482-p"
   },
   "outputs": [],
   "source": [
    "# convert encoded transactional data to torch Variable\n",
    "data = autograd.Variable(torch_dataset) # конвертируем данные в тип torch Variable\n",
    "\n",
    "# set networks in evaluation mode (don't apply dropout)\n",
    "encoder_eval.eval() # переключаем модель в режим тестирования, то есть отключаем функции, которые были при обучении, например, dropout\n",
    "decoder_eval.eval()\n",
    "\n",
    "# reconstruct encoded transactional data\n",
    "reconstruction = decoder_eval(encoder_eval(data))"
   ]
  },
  {
   "cell_type": "markdown",
   "metadata": {
    "id": "9WtQCnV9BuOz"
   },
   "source": [
    "Сравнение общей потери реконструкции предварительно обученной модели, обученной в течение 10 эпох, с той, которую мы изначально обучали в течение 5 эпох, показывает, что предварительно обученная модель приводит к значительно меньшей ошибке реконструкции. Таким образом, мы можем сделать вывод, что предварительно обученная модель превосходит нашу исходную модель в захвате неотъемлемых характеристик записей журнала.\n",
    "\n",
    "Далее, будем использовать предобученную модель от авторов."
   ]
  },
  {
   "cell_type": "markdown",
   "metadata": {
    "id": "N_OJ2v8N82-p"
   },
   "source": [
    "### 6.2 Оценка отдельных транзакций"
   ]
  },
  {
   "cell_type": "markdown",
   "metadata": {
    "id": "8E-Vr_dxCN6G"
   },
   "source": [
    "Когда мы убедились, что предварительно обученная модель имеет достойное качество, оценим отдельные записи в журнале набора данных. Для этого мы собираем ошибки реконструкции каждой отдельной записи в журнале:"
   ]
  },
  {
   "cell_type": "code",
   "execution_count": 48,
   "metadata": {
    "colab": {
     "base_uri": "https://localhost:8080/"
    },
    "id": "-MpLrEyk82-p",
    "outputId": "18229f78-b549-4a69-f963-9a7860b4fbcd"
   },
   "outputs": [
    {
     "name": "stdout",
     "output_type": "stream",
     "text": [
      "[LOG 20220508-16:57:18] collected individual reconstruction loss of: 000000/533009 transactions\n",
      "[LOG 20220508-16:57:27] collected individual reconstruction loss of: 100000/533009 transactions\n",
      "[LOG 20220508-16:57:39] collected individual reconstruction loss of: 200000/533009 transactions\n",
      "[LOG 20220508-16:57:52] collected individual reconstruction loss of: 300000/533009 transactions\n",
      "[LOG 20220508-16:58:03] collected individual reconstruction loss of: 400000/533009 transactions\n",
      "[LOG 20220508-16:58:14] collected individual reconstruction loss of: 500000/533009 transactions\n"
     ]
    }
   ],
   "source": [
    "# init binary cross entropy errors (Инициализируем нулями ошибку BCELoss)\n",
    "reconstruction_loss_transaction = np.zeros(reconstruction.size()[0])\n",
    "\n",
    "# iterate over all detailed reconstructions\n",
    "for i in range(0, reconstruction.size()[0]): # итерируемся по реконструированной ра\n",
    "\n",
    "    # determine reconstruction loss - individual transactions\n",
    "    reconstruction_loss_transaction[i] = loss_function(reconstruction[i], data[i]).item()\n",
    "\n",
    "    if(i % 100000 == 0):\n",
    "\n",
    "        ### print conversion summary\n",
    "        now = datetime.utcnow().strftime(\"%Y%m%d-%H:%M:%S\")\n",
    "        print('[LOG {}] collected individual reconstruction loss of: {:06}/{:06} transactions'.format(now, i, reconstruction.size()[0]))\n",
    "        "
   ]
  },
  {
   "cell_type": "markdown",
   "metadata": {
    "id": "1Aty3vfqCYku"
   },
   "source": [
    "После того, как собрали отдельные ошибки реконструкции визуализируем их:"
   ]
  },
  {
   "cell_type": "code",
   "execution_count": 49,
   "metadata": {
    "colab": {
     "base_uri": "https://localhost:8080/",
     "height": 282
    },
    "id": "U4fAeM2p82-q",
    "outputId": "0e87549a-37f9-4be6-f1cf-727678d0684a"
   },
   "outputs": [
    {
     "data": {
      "text/plain": [
       "<matplotlib.legend.Legend at 0x7fc342074490>"
      ]
     },
     "execution_count": 49,
     "metadata": {},
     "output_type": "execute_result"
    },
    {
     "data": {
      "image/png": "[encoded data removed]",
      "text/plain": [
       "<Figure size 432x288 with 1 Axes>"
      ]
     },
     "metadata": {
      "needs_background": "light"
     },
     "output_type": "display_data"
    }
   ],
   "source": [
    "# prepare plot\n",
    "fig = plt.figure()\n",
    "ax = fig.add_subplot(111)\n",
    "\n",
    "# assign unique id to transactions\n",
    "plot_data = np.column_stack((np.arange(len(reconstruction_loss_transaction)), reconstruction_loss_transaction))\n",
    "\n",
    "# obtain regular transactions as well as global and local anomalies\n",
    "regular_data = plot_data[label == 'regular']\n",
    "global_outliers = plot_data[label == 'global']\n",
    "local_outliers = plot_data[label == 'local']\n",
    "\n",
    "# plot reconstruction error scatter plot\n",
    "ax.scatter(regular_data[:, 0], regular_data[:, 1], c='C0', alpha=0.4, marker=\"o\", label='regular') # plot regular transactions\n",
    "ax.scatter(global_outliers[:, 0], global_outliers[:, 1], c='C1', marker=\"^\", label='global') # plot global outliers\n",
    "ax.scatter(local_outliers[:, 0], local_outliers[:, 1], c='C2', marker=\"^\", label='local') # plot local outliers\n",
    "\n",
    "# add plot legend of transaction classes\n",
    "ax.legend(loc='best')"
   ]
  },
  {
   "cell_type": "markdown",
   "metadata": {
    "id": "TWWF1S82CjnV"
   },
   "source": [
    "Визуализация показывает, что предварительно обученная модель способна реконструировать большинство обычных записей журнала, но не может этого сделать для аномальных. В результате ошибку реконструкции модели можно использовать, чтобы отличить как «глобальные» аномалии (оранжевый), так и «локальные» аномалии (зеленый) от обычных записей журнала (синий).\n",
    "\n"
   ]
  },
  {
   "cell_type": "markdown",
   "metadata": {
    "id": "xRVYnNJzCs32"
   },
   "source": [
    "Для дальнейшего изучения нашего наблюдения и подтверждения первоначального предположения изучим записи в журнале, демонстрирующие «высокую» ошибку реконструкции >= 0,1. Мы предполагаем, что эти записи журнала соответствуют «глобальным» аномалиям исходного набора данных:"
   ]
  },
  {
   "cell_type": "code",
   "execution_count": 50,
   "metadata": {
    "colab": {
     "base_uri": "https://localhost:8080/",
     "height": 426
    },
    "id": "oeVp5RC-82-q",
    "outputId": "1d43e470-092d-4217-93d6-e7569e0b4647"
   },
   "outputs": [
    {
     "data": {
      "text/html": [
       "\n",
       "  <div id=\"df-772d4d1d-72b7-44c4-bc68-95251dd60f5d\">\n",
       "    <div class=\"colab-df-container\">\n",
       "      <div>\n",
       "<style scoped>\n",
       "    .dataframe tbody tr th:only-of-type {\n",
       "        vertical-align: middle;\n",
       "    }\n",
       "\n",
       "    .dataframe tbody tr th {\n",
       "        vertical-align: top;\n",
       "    }\n",
       "\n",
       "    .dataframe thead th {\n",
       "        text-align: right;\n",
       "    }\n",
       "</style>\n",
       "<table border=\"1\" class=\"dataframe\">\n",
       "  <thead>\n",
       "    <tr style=\"text-align: right;\">\n",
       "      <th></th>\n",
       "      <th>BELNR</th>\n",
       "      <th>WAERS</th>\n",
       "      <th>BUKRS</th>\n",
       "      <th>KTOSL</th>\n",
       "      <th>PRCTR</th>\n",
       "      <th>BSCHL</th>\n",
       "      <th>HKONT</th>\n",
       "      <th>DMBTR</th>\n",
       "      <th>WRBTR</th>\n",
       "      <th>label</th>\n",
       "    </tr>\n",
       "  </thead>\n",
       "  <tbody>\n",
       "    <tr>\n",
       "      <th>113179</th>\n",
       "      <td>532969</td>\n",
       "      <td>H01</td>\n",
       "      <td>E65</td>\n",
       "      <td>O50</td>\n",
       "      <td>F20</td>\n",
       "      <td>M83</td>\n",
       "      <td>V78</td>\n",
       "      <td>9.244552e+07</td>\n",
       "      <td>5.958503e+07</td>\n",
       "      <td>global</td>\n",
       "    </tr>\n",
       "    <tr>\n",
       "      <th>170320</th>\n",
       "      <td>533001</td>\n",
       "      <td>C1</td>\n",
       "      <td>C11</td>\n",
       "      <td>C1</td>\n",
       "      <td>C30</td>\n",
       "      <td>A1</td>\n",
       "      <td>B1</td>\n",
       "      <td>9.106460e+05</td>\n",
       "      <td>5.445281e+04</td>\n",
       "      <td>local</td>\n",
       "    </tr>\n",
       "    <tr>\n",
       "      <th>199041</th>\n",
       "      <td>532968</td>\n",
       "      <td>K99</td>\n",
       "      <td>T17</td>\n",
       "      <td>C84</td>\n",
       "      <td>L74</td>\n",
       "      <td>T28</td>\n",
       "      <td>N47</td>\n",
       "      <td>9.244551e+07</td>\n",
       "      <td>5.958501e+07</td>\n",
       "      <td>global</td>\n",
       "    </tr>\n",
       "    <tr>\n",
       "      <th>306995</th>\n",
       "      <td>532990</td>\n",
       "      <td>C1</td>\n",
       "      <td>C11</td>\n",
       "      <td>C1</td>\n",
       "      <td>C39</td>\n",
       "      <td>A1</td>\n",
       "      <td>B1</td>\n",
       "      <td>9.106485e+05</td>\n",
       "      <td>5.442850e+04</td>\n",
       "      <td>local</td>\n",
       "    </tr>\n",
       "    <tr>\n",
       "      <th>315589</th>\n",
       "      <td>532920</td>\n",
       "      <td>P79</td>\n",
       "      <td>N56</td>\n",
       "      <td>N39</td>\n",
       "      <td>P47</td>\n",
       "      <td>H17</td>\n",
       "      <td>S52</td>\n",
       "      <td>9.244551e+07</td>\n",
       "      <td>5.958503e+07</td>\n",
       "      <td>global</td>\n",
       "    </tr>\n",
       "    <tr>\n",
       "      <th>336799</th>\n",
       "      <td>532940</td>\n",
       "      <td>N15</td>\n",
       "      <td>G51</td>\n",
       "      <td>G09</td>\n",
       "      <td>S21</td>\n",
       "      <td>E99</td>\n",
       "      <td>W62</td>\n",
       "      <td>9.244553e+07</td>\n",
       "      <td>5.958505e+07</td>\n",
       "      <td>global</td>\n",
       "    </tr>\n",
       "    <tr>\n",
       "      <th>364695</th>\n",
       "      <td>533009</td>\n",
       "      <td>C1</td>\n",
       "      <td>C11</td>\n",
       "      <td>C1</td>\n",
       "      <td>C32</td>\n",
       "      <td>A1</td>\n",
       "      <td>B1</td>\n",
       "      <td>9.106585e+05</td>\n",
       "      <td>5.443274e+04</td>\n",
       "      <td>local</td>\n",
       "    </tr>\n",
       "    <tr>\n",
       "      <th>387184</th>\n",
       "      <td>532970</td>\n",
       "      <td>L47</td>\n",
       "      <td>W77</td>\n",
       "      <td>C76</td>\n",
       "      <td>K02</td>\n",
       "      <td>M65</td>\n",
       "      <td>H02</td>\n",
       "      <td>9.244552e+07</td>\n",
       "      <td>5.958504e+07</td>\n",
       "      <td>global</td>\n",
       "    </tr>\n",
       "    <tr>\n",
       "      <th>401639</th>\n",
       "      <td>532965</td>\n",
       "      <td>R09</td>\n",
       "      <td>H05</td>\n",
       "      <td>D89</td>\n",
       "      <td>B70</td>\n",
       "      <td>Z68</td>\n",
       "      <td>K21</td>\n",
       "      <td>9.244551e+07</td>\n",
       "      <td>5.958503e+07</td>\n",
       "      <td>global</td>\n",
       "    </tr>\n",
       "    <tr>\n",
       "      <th>438816</th>\n",
       "      <td>532931</td>\n",
       "      <td>T87</td>\n",
       "      <td>V13</td>\n",
       "      <td>R30</td>\n",
       "      <td>C03</td>\n",
       "      <td>F26</td>\n",
       "      <td>G64</td>\n",
       "      <td>9.244553e+07</td>\n",
       "      <td>5.958504e+07</td>\n",
       "      <td>global</td>\n",
       "    </tr>\n",
       "    <tr>\n",
       "      <th>463973</th>\n",
       "      <td>532992</td>\n",
       "      <td>C1</td>\n",
       "      <td>C11</td>\n",
       "      <td>C1</td>\n",
       "      <td>C57</td>\n",
       "      <td>A1</td>\n",
       "      <td>B1</td>\n",
       "      <td>9.106499e+05</td>\n",
       "      <td>5.444288e+04</td>\n",
       "      <td>local</td>\n",
       "    </tr>\n",
       "    <tr>\n",
       "      <th>507636</th>\n",
       "      <td>532993</td>\n",
       "      <td>C1</td>\n",
       "      <td>C11</td>\n",
       "      <td>C1</td>\n",
       "      <td>C70</td>\n",
       "      <td>A1</td>\n",
       "      <td>B1</td>\n",
       "      <td>9.106766e+05</td>\n",
       "      <td>5.444176e+04</td>\n",
       "      <td>local</td>\n",
       "    </tr>\n",
       "  </tbody>\n",
       "</table>\n",
       "</div>\n",
       "      <button class=\"colab-df-convert\" onclick=\"convertToInteractive('df-772d4d1d-72b7-44c4-bc68-95251dd60f5d')\"\n",
       "              title=\"Convert this dataframe to an interactive table.\"\n",
       "              style=\"display:none;\">\n",
       "        \n",
       "  <svg xmlns=\"http://www.w3.org/2000/svg\" height=\"24px\"viewBox=\"0 0 24 24\"\n",
       "       width=\"24px\">\n",
       "    <path d=\"M0 0h24v24H0V0z\" fill=\"none\"/>\n",
       "    <path d=\"M18.56 5.44l.94 2.06.94-2.06 2.06-.94-2.06-.94-.94-2.06-.94 2.06-2.06.94zm-11 1L8.5 8.5l.94-2.06 2.06-.94-2.06-.94L8.5 2.5l-.94 2.06-2.06.94zm10 10l.94 2.06.94-2.06 2.06-.94-2.06-.94-.94-2.06-.94 2.06-2.06.94z\"/><path d=\"M17.41 7.96l-1.37-1.37c-.4-.4-.92-.59-1.43-.59-.52 0-1.04.2-1.43.59L10.3 9.45l-7.72 7.72c-.78.78-.78 2.05 0 2.83L4 21.41c.39.39.9.59 1.41.59.51 0 1.02-.2 1.41-.59l7.78-7.78 2.81-2.81c.8-.78.8-2.07 0-2.86zM5.41 20L4 18.59l7.72-7.72 1.47 1.35L5.41 20z\"/>\n",
       "  </svg>\n",
       "      </button>\n",
       "      \n",
       "  <style>\n",
       "    .colab-df-container {\n",
       "      display:flex;\n",
       "      flex-wrap:wrap;\n",
       "      gap: 12px;\n",
       "    }\n",
       "\n",
       "    .colab-df-convert {\n",
       "      background-color: #E8F0FE;\n",
       "      border: none;\n",
       "      border-radius: 50%;\n",
       "      cursor: pointer;\n",
       "      display: none;\n",
       "      fill: #1967D2;\n",
       "      height: 32px;\n",
       "      padding: 0 0 0 0;\n",
       "      width: 32px;\n",
       "    }\n",
       "\n",
       "    .colab-df-convert:hover {\n",
       "      background-color: #E2EBFA;\n",
       "      box-shadow: 0px 1px 2px rgba(60, 64, 67, 0.3), 0px 1px 3px 1px rgba(60, 64, 67, 0.15);\n",
       "      fill: #174EA6;\n",
       "    }\n",
       "\n",
       "    [theme=dark] .colab-df-convert {\n",
       "      background-color: #3B4455;\n",
       "      fill: #D2E3FC;\n",
       "    }\n",
       "\n",
       "    [theme=dark] .colab-df-convert:hover {\n",
       "      background-color: #434B5C;\n",
       "      box-shadow: 0px 1px 3px 1px rgba(0, 0, 0, 0.15);\n",
       "      filter: drop-shadow(0px 1px 2px rgba(0, 0, 0, 0.3));\n",
       "      fill: #FFFFFF;\n",
       "    }\n",
       "  </style>\n",
       "\n",
       "      <script>\n",
       "        const buttonEl =\n",
       "          document.querySelector('#df-772d4d1d-72b7-44c4-bc68-95251dd60f5d button.colab-df-convert');\n",
       "        buttonEl.style.display =\n",
       "          google.colab.kernel.accessAllowed ? 'block' : 'none';\n",
       "\n",
       "        async function convertToInteractive(key) {\n",
       "          const element = document.querySelector('#df-772d4d1d-72b7-44c4-bc68-95251dd60f5d');\n",
       "          const dataTable =\n",
       "            await google.colab.kernel.invokeFunction('convertToInteractive',\n",
       "                                                     [key], {});\n",
       "          if (!dataTable) return;\n",
       "\n",
       "          const docLinkHtml = 'Like what you see? Visit the ' +\n",
       "            '<a target=\"_blank\" href=https://colab.research.google.com/notebooks/data_table.ipynb>data table notebook</a>'\n",
       "            + ' to learn more about interactive tables.';\n",
       "          element.innerHTML = '';\n",
       "          dataTable['output_type'] = 'display_data';\n",
       "          await google.colab.output.renderOutput(dataTable, element);\n",
       "          const docLink = document.createElement('div');\n",
       "          docLink.innerHTML = docLinkHtml;\n",
       "          element.appendChild(docLink);\n",
       "        }\n",
       "      </script>\n",
       "    </div>\n",
       "  </div>\n",
       "  "
      ],
      "text/plain": [
       "         BELNR WAERS BUKRS KTOSL PRCTR BSCHL HKONT         DMBTR  \\\n",
       "113179  532969   H01   E65   O50   F20   M83   V78  9.244552e+07   \n",
       "170320  533001    C1   C11    C1   C30    A1    B1  9.106460e+05   \n",
       "199041  532968   K99   T17   C84   L74   T28   N47  9.244551e+07   \n",
       "306995  532990    C1   C11    C1   C39    A1    B1  9.106485e+05   \n",
       "315589  532920   P79   N56   N39   P47   H17   S52  9.244551e+07   \n",
       "336799  532940   N15   G51   G09   S21   E99   W62  9.244553e+07   \n",
       "364695  533009    C1   C11    C1   C32    A1    B1  9.106585e+05   \n",
       "387184  532970   L47   W77   C76   K02   M65   H02  9.244552e+07   \n",
       "401639  532965   R09   H05   D89   B70   Z68   K21  9.244551e+07   \n",
       "438816  532931   T87   V13   R30   C03   F26   G64  9.244553e+07   \n",
       "463973  532992    C1   C11    C1   C57    A1    B1  9.106499e+05   \n",
       "507636  532993    C1   C11    C1   C70    A1    B1  9.106766e+05   \n",
       "\n",
       "               WRBTR   label  \n",
       "113179  5.958503e+07  global  \n",
       "170320  5.445281e+04   local  \n",
       "199041  5.958501e+07  global  \n",
       "306995  5.442850e+04   local  \n",
       "315589  5.958503e+07  global  \n",
       "336799  5.958505e+07  global  \n",
       "364695  5.443274e+04   local  \n",
       "387184  5.958504e+07  global  \n",
       "401639  5.958503e+07  global  \n",
       "438816  5.958504e+07  global  \n",
       "463973  5.444288e+04   local  \n",
       "507636  5.444176e+04   local  "
      ]
     },
     "execution_count": 50,
     "metadata": {},
     "output_type": "execute_result"
    }
   ],
   "source": [
    "# append labels to original dataset\n",
    "ori_dataset['label'] = label\n",
    "\n",
    "# inspect transactions exhibiting a reconstruction error >= 0.1 (проверка транзакции с ошибкой реконструкции >= 0.1)\n",
    "ori_dataset[reconstruction_loss_transaction >= 0.1]"
   ]
  },
  {
   "cell_type": "markdown",
   "metadata": {
    "id": "0k_9qvmPC2OS"
   },
   "source": [
    "Теперь рассмотрим записи журнала, демонстрирующие «среднюю» ошибку реконструкции >= 0,05 и <0,1. Мы предполагаем, что эти записи журнала в основном соответствуют «локальным» аномалиям исходного набора данных:"
   ]
  },
  {
   "cell_type": "code",
   "execution_count": 51,
   "metadata": {
    "colab": {
     "base_uri": "https://localhost:8080/",
     "height": 424
    },
    "id": "4nc8AoPf82-q",
    "outputId": "df9dda59-dda5-4022-bba0-6e1f4ab90781"
   },
   "outputs": [
    {
     "data": {
      "text/html": [
       "\n",
       "  <div id=\"df-f21482d8-7a56-4b4a-9a28-075f912f997c\">\n",
       "    <div class=\"colab-df-container\">\n",
       "      <div>\n",
       "<style scoped>\n",
       "    .dataframe tbody tr th:only-of-type {\n",
       "        vertical-align: middle;\n",
       "    }\n",
       "\n",
       "    .dataframe tbody tr th {\n",
       "        vertical-align: top;\n",
       "    }\n",
       "\n",
       "    .dataframe thead th {\n",
       "        text-align: right;\n",
       "    }\n",
       "</style>\n",
       "<table border=\"1\" class=\"dataframe\">\n",
       "  <thead>\n",
       "    <tr style=\"text-align: right;\">\n",
       "      <th></th>\n",
       "      <th>BELNR</th>\n",
       "      <th>WAERS</th>\n",
       "      <th>BUKRS</th>\n",
       "      <th>KTOSL</th>\n",
       "      <th>PRCTR</th>\n",
       "      <th>BSCHL</th>\n",
       "      <th>HKONT</th>\n",
       "      <th>DMBTR</th>\n",
       "      <th>WRBTR</th>\n",
       "      <th>label</th>\n",
       "    </tr>\n",
       "  </thead>\n",
       "  <tbody>\n",
       "    <tr>\n",
       "      <th>32317</th>\n",
       "      <td>532989</td>\n",
       "      <td>C1</td>\n",
       "      <td>C11</td>\n",
       "      <td>C1</td>\n",
       "      <td>C53</td>\n",
       "      <td>A1</td>\n",
       "      <td>B1</td>\n",
       "      <td>9.106530e+05</td>\n",
       "      <td>5.443921e+04</td>\n",
       "      <td>local</td>\n",
       "    </tr>\n",
       "    <tr>\n",
       "      <th>33365</th>\n",
       "      <td>532942</td>\n",
       "      <td>W59</td>\n",
       "      <td>C13</td>\n",
       "      <td>P83</td>\n",
       "      <td>I73</td>\n",
       "      <td>I05</td>\n",
       "      <td>Q99</td>\n",
       "      <td>9.244552e+07</td>\n",
       "      <td>5.958504e+07</td>\n",
       "      <td>global</td>\n",
       "    </tr>\n",
       "    <tr>\n",
       "      <th>34059</th>\n",
       "      <td>533003</td>\n",
       "      <td>C1</td>\n",
       "      <td>C11</td>\n",
       "      <td>C1</td>\n",
       "      <td>C64</td>\n",
       "      <td>A1</td>\n",
       "      <td>B1</td>\n",
       "      <td>9.106316e+05</td>\n",
       "      <td>5.444328e+04</td>\n",
       "      <td>local</td>\n",
       "    </tr>\n",
       "    <tr>\n",
       "      <th>35944</th>\n",
       "      <td>532917</td>\n",
       "      <td>J82</td>\n",
       "      <td>Q22</td>\n",
       "      <td>P32</td>\n",
       "      <td>Z74</td>\n",
       "      <td>Y19</td>\n",
       "      <td>K27</td>\n",
       "      <td>9.244553e+07</td>\n",
       "      <td>5.958504e+07</td>\n",
       "      <td>global</td>\n",
       "    </tr>\n",
       "    <tr>\n",
       "      <th>41925</th>\n",
       "      <td>532923</td>\n",
       "      <td>T17</td>\n",
       "      <td>R47</td>\n",
       "      <td>D84</td>\n",
       "      <td>F38</td>\n",
       "      <td>I81</td>\n",
       "      <td>D68</td>\n",
       "      <td>9.244552e+07</td>\n",
       "      <td>5.958505e+07</td>\n",
       "      <td>global</td>\n",
       "    </tr>\n",
       "    <tr>\n",
       "      <th>...</th>\n",
       "      <td>...</td>\n",
       "      <td>...</td>\n",
       "      <td>...</td>\n",
       "      <td>...</td>\n",
       "      <td>...</td>\n",
       "      <td>...</td>\n",
       "      <td>...</td>\n",
       "      <td>...</td>\n",
       "      <td>...</td>\n",
       "      <td>...</td>\n",
       "    </tr>\n",
       "    <tr>\n",
       "      <th>502255</th>\n",
       "      <td>532954</td>\n",
       "      <td>J38</td>\n",
       "      <td>C30</td>\n",
       "      <td>G28</td>\n",
       "      <td>T38</td>\n",
       "      <td>C62</td>\n",
       "      <td>L03</td>\n",
       "      <td>9.244551e+07</td>\n",
       "      <td>5.958503e+07</td>\n",
       "      <td>global</td>\n",
       "    </tr>\n",
       "    <tr>\n",
       "      <th>506926</th>\n",
       "      <td>532948</td>\n",
       "      <td>U72</td>\n",
       "      <td>D58</td>\n",
       "      <td>E35</td>\n",
       "      <td>Y05</td>\n",
       "      <td>D53</td>\n",
       "      <td>F61</td>\n",
       "      <td>9.244551e+07</td>\n",
       "      <td>5.958505e+07</td>\n",
       "      <td>global</td>\n",
       "    </tr>\n",
       "    <tr>\n",
       "      <th>528449</th>\n",
       "      <td>532959</td>\n",
       "      <td>C89</td>\n",
       "      <td>S43</td>\n",
       "      <td>E40</td>\n",
       "      <td>Y34</td>\n",
       "      <td>L29</td>\n",
       "      <td>N28</td>\n",
       "      <td>9.244553e+07</td>\n",
       "      <td>5.958504e+07</td>\n",
       "      <td>global</td>\n",
       "    </tr>\n",
       "    <tr>\n",
       "      <th>528759</th>\n",
       "      <td>532910</td>\n",
       "      <td>P36</td>\n",
       "      <td>V48</td>\n",
       "      <td>Z17</td>\n",
       "      <td>J68</td>\n",
       "      <td>Q50</td>\n",
       "      <td>J62</td>\n",
       "      <td>9.244554e+07</td>\n",
       "      <td>5.958504e+07</td>\n",
       "      <td>global</td>\n",
       "    </tr>\n",
       "    <tr>\n",
       "      <th>532375</th>\n",
       "      <td>532985</td>\n",
       "      <td>C1</td>\n",
       "      <td>C11</td>\n",
       "      <td>C1</td>\n",
       "      <td>C75</td>\n",
       "      <td>A1</td>\n",
       "      <td>B1</td>\n",
       "      <td>9.106505e+05</td>\n",
       "      <td>5.444948e+04</td>\n",
       "      <td>local</td>\n",
       "    </tr>\n",
       "  </tbody>\n",
       "</table>\n",
       "<p>70 rows × 10 columns</p>\n",
       "</div>\n",
       "      <button class=\"colab-df-convert\" onclick=\"convertToInteractive('df-f21482d8-7a56-4b4a-9a28-075f912f997c')\"\n",
       "              title=\"Convert this dataframe to an interactive table.\"\n",
       "              style=\"display:none;\">\n",
       "        \n",
       "  <svg xmlns=\"http://www.w3.org/2000/svg\" height=\"24px\"viewBox=\"0 0 24 24\"\n",
       "       width=\"24px\">\n",
       "    <path d=\"M0 0h24v24H0V0z\" fill=\"none\"/>\n",
       "    <path d=\"M18.56 5.44l.94 2.06.94-2.06 2.06-.94-2.06-.94-.94-2.06-.94 2.06-2.06.94zm-11 1L8.5 8.5l.94-2.06 2.06-.94-2.06-.94L8.5 2.5l-.94 2.06-2.06.94zm10 10l.94 2.06.94-2.06 2.06-.94-2.06-.94-.94-2.06-.94 2.06-2.06.94z\"/><path d=\"M17.41 7.96l-1.37-1.37c-.4-.4-.92-.59-1.43-.59-.52 0-1.04.2-1.43.59L10.3 9.45l-7.72 7.72c-.78.78-.78 2.05 0 2.83L4 21.41c.39.39.9.59 1.41.59.51 0 1.02-.2 1.41-.59l7.78-7.78 2.81-2.81c.8-.78.8-2.07 0-2.86zM5.41 20L4 18.59l7.72-7.72 1.47 1.35L5.41 20z\"/>\n",
       "  </svg>\n",
       "      </button>\n",
       "      \n",
       "  <style>\n",
       "    .colab-df-container {\n",
       "      display:flex;\n",
       "      flex-wrap:wrap;\n",
       "      gap: 12px;\n",
       "    }\n",
       "\n",
       "    .colab-df-convert {\n",
       "      background-color: #E8F0FE;\n",
       "      border: none;\n",
       "      border-radius: 50%;\n",
       "      cursor: pointer;\n",
       "      display: none;\n",
       "      fill: #1967D2;\n",
       "      height: 32px;\n",
       "      padding: 0 0 0 0;\n",
       "      width: 32px;\n",
       "    }\n",
       "\n",
       "    .colab-df-convert:hover {\n",
       "      background-color: #E2EBFA;\n",
       "      box-shadow: 0px 1px 2px rgba(60, 64, 67, 0.3), 0px 1px 3px 1px rgba(60, 64, 67, 0.15);\n",
       "      fill: #174EA6;\n",
       "    }\n",
       "\n",
       "    [theme=dark] .colab-df-convert {\n",
       "      background-color: #3B4455;\n",
       "      fill: #D2E3FC;\n",
       "    }\n",
       "\n",
       "    [theme=dark] .colab-df-convert:hover {\n",
       "      background-color: #434B5C;\n",
       "      box-shadow: 0px 1px 3px 1px rgba(0, 0, 0, 0.15);\n",
       "      filter: drop-shadow(0px 1px 2px rgba(0, 0, 0, 0.3));\n",
       "      fill: #FFFFFF;\n",
       "    }\n",
       "  </style>\n",
       "\n",
       "      <script>\n",
       "        const buttonEl =\n",
       "          document.querySelector('#df-f21482d8-7a56-4b4a-9a28-075f912f997c button.colab-df-convert');\n",
       "        buttonEl.style.display =\n",
       "          google.colab.kernel.accessAllowed ? 'block' : 'none';\n",
       "\n",
       "        async function convertToInteractive(key) {\n",
       "          const element = document.querySelector('#df-f21482d8-7a56-4b4a-9a28-075f912f997c');\n",
       "          const dataTable =\n",
       "            await google.colab.kernel.invokeFunction('convertToInteractive',\n",
       "                                                     [key], {});\n",
       "          if (!dataTable) return;\n",
       "\n",
       "          const docLinkHtml = 'Like what you see? Visit the ' +\n",
       "            '<a target=\"_blank\" href=https://colab.research.google.com/notebooks/data_table.ipynb>data table notebook</a>'\n",
       "            + ' to learn more about interactive tables.';\n",
       "          element.innerHTML = '';\n",
       "          dataTable['output_type'] = 'display_data';\n",
       "          await google.colab.output.renderOutput(dataTable, element);\n",
       "          const docLink = document.createElement('div');\n",
       "          docLink.innerHTML = docLinkHtml;\n",
       "          element.appendChild(docLink);\n",
       "        }\n",
       "      </script>\n",
       "    </div>\n",
       "  </div>\n",
       "  "
      ],
      "text/plain": [
       "         BELNR WAERS BUKRS KTOSL PRCTR BSCHL HKONT         DMBTR  \\\n",
       "32317   532989    C1   C11    C1   C53    A1    B1  9.106530e+05   \n",
       "33365   532942   W59   C13   P83   I73   I05   Q99  9.244552e+07   \n",
       "34059   533003    C1   C11    C1   C64    A1    B1  9.106316e+05   \n",
       "35944   532917   J82   Q22   P32   Z74   Y19   K27  9.244553e+07   \n",
       "41925   532923   T17   R47   D84   F38   I81   D68  9.244552e+07   \n",
       "...        ...   ...   ...   ...   ...   ...   ...           ...   \n",
       "502255  532954   J38   C30   G28   T38   C62   L03  9.244551e+07   \n",
       "506926  532948   U72   D58   E35   Y05   D53   F61  9.244551e+07   \n",
       "528449  532959   C89   S43   E40   Y34   L29   N28  9.244553e+07   \n",
       "528759  532910   P36   V48   Z17   J68   Q50   J62  9.244554e+07   \n",
       "532375  532985    C1   C11    C1   C75    A1    B1  9.106505e+05   \n",
       "\n",
       "               WRBTR   label  \n",
       "32317   5.443921e+04   local  \n",
       "33365   5.958504e+07  global  \n",
       "34059   5.444328e+04   local  \n",
       "35944   5.958504e+07  global  \n",
       "41925   5.958505e+07  global  \n",
       "...              ...     ...  \n",
       "502255  5.958503e+07  global  \n",
       "506926  5.958505e+07  global  \n",
       "528449  5.958504e+07  global  \n",
       "528759  5.958504e+07  global  \n",
       "532375  5.444948e+04   local  \n",
       "\n",
       "[70 rows x 10 columns]"
      ]
     },
     "execution_count": 51,
     "metadata": {},
     "output_type": "execute_result"
    }
   ],
   "source": [
    "# inspect transactions exhibiting a reconstruction error < 0.1 and >= 0.05 \n",
    "# проверять транзакции с ошибкой реконструкции < 0,1 и >= 0,05 ()\n",
    "ori_dataset[(reconstruction_loss_transaction >= 0.05) & (reconstruction_loss_transaction < 0.1)]"
   ]
  },
  {
   "cell_type": "markdown",
   "metadata": {},
   "source": [
    "Как мы видим, ошибка реконструкции  >= 0,1 показывает как глобальные, так и локальные аномалии, так же как и ошибка реконструкции < 0,1 и >= 0,05, но обычные транзакции отсуствуют."
   ]
  },
  {
   "cell_type": "markdown",
   "metadata": {
    "id": "CTOt4MIh82-t"
   },
   "source": [
    "## Список использованных источников"
   ]
  },
  {
   "cell_type": "markdown",
   "metadata": {
    "id": "7Kb_PZz682-t"
   },
   "source": [
    "[1] N. Srivastava, G. E. Hinton, A. Krizhevsky, I. Sutskever, and R. Salakhutdinov, \"Dropout: A simple way to prevent neural networks from overfitting\", The Journal of Machine Learning Research, 15(1), 1929-1958, 2014.\n",
    "\n",
    "[2] X. Glorot and Y. Bengio, \"Understanding the difficulty of training deep feedforward neural networks\", Proceedings of the 13th International Conference on Artificial Intelligence and Statistics (AISTATS), 9:249–256, 2010.\n",
    "\n",
    "[3] B. Xu, N. Wang, T. Chen, and M. Li, \"Empirical Evaluation of Rectified Activations in Convolution Network\", ICML Deep Learning Workshop, pages 1–5, 2015.\n",
    "\n",
    "[4] D. P. Kingma and J. Ba, \"Adam: A method for stochastic optimization\", International Conference on Learning Representations (ICLR). 2015.\n"
   ]
  }
 ],
 "metadata": {
  "accelerator": "GPU",
  "colab": {
   "collapsed_sections": [],
   "name": "AUTOENCODER_RESULT.ipynb",
   "provenance": []
  },
  "kernelspec": {
   "display_name": "Python 3",
   "language": "python",
   "name": "python3"
  },
  "language_info": {
   "codemirror_mode": {
    "name": "ipython",
    "version": 3
   },
   "file_extension": ".py",
   "mimetype": "text/x-python",
   "name": "python",
   "nbconvert_exporter": "python",
   "pygments_lexer": "ipython3",
   "version": "3.8.8"
  }
 },
 "nbformat": 4,
 "nbformat_minor": 1
}
